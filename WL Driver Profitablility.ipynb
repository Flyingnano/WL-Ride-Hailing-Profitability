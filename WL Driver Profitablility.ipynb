{
 "cells": [
  {
   "cell_type": "code",
   "execution_count": 7,
   "metadata": {},
   "outputs": [],
   "source": [
    "import numpy as np; import scipy as sp; import pandas as pd; \n",
    "import statsmodels.api as sm \n",
    "import pylab as py ; import matplotlib.pyplot as plt; "
   ]
  },
  {
   "cell_type": "code",
   "execution_count": 8,
   "metadata": {},
   "outputs": [],
   "source": [
    "path = \"D:\\Downloads\\WL\""
   ]
  },
  {
   "cell_type": "code",
   "execution_count": 9,
   "metadata": {},
   "outputs": [],
   "source": [
    "df = pd.read_csv(path +\"\\\\completed_deduped_HyeongcheolPark_20210212 gc feb 13.csv\")"
   ]
  },
  {
   "cell_type": "markdown",
   "metadata": {},
   "source": [
    "Breifly looking at the data"
   ]
  },
  {
   "cell_type": "code",
   "execution_count": 10,
   "metadata": {
    "scrolled": true
   },
   "outputs": [
    {
     "data": {
      "text/html": [
       "<div>\n",
       "<style scoped>\n",
       "    .dataframe tbody tr th:only-of-type {\n",
       "        vertical-align: middle;\n",
       "    }\n",
       "\n",
       "    .dataframe tbody tr th {\n",
       "        vertical-align: top;\n",
       "    }\n",
       "\n",
       "    .dataframe thead th {\n",
       "        text-align: right;\n",
       "    }\n",
       "</style>\n",
       "<table border=\"1\" class=\"dataframe\">\n",
       "  <thead>\n",
       "    <tr style=\"text-align: right;\">\n",
       "      <th></th>\n",
       "      <th>id</th>\n",
       "      <th>orderid</th>\n",
       "      <th>rider_username</th>\n",
       "      <th>driver_id</th>\n",
       "      <th>driver.rate</th>\n",
       "      <th>score_count</th>\n",
       "      <th>Order_complet_count</th>\n",
       "      <th>Order_rider_cancle_count</th>\n",
       "      <th>order_admin_cancle_count</th>\n",
       "      <th>car_desc</th>\n",
       "      <th>...</th>\n",
       "      <th>tsr_osrm</th>\n",
       "      <th>pickup_date.time</th>\n",
       "      <th>pickup_date.time_osrm</th>\n",
       "      <th>trip_update_date.time</th>\n",
       "      <th>total.trip.cycle</th>\n",
       "      <th>driver.wait.time</th>\n",
       "      <th>delay</th>\n",
       "      <th>delay.osrm</th>\n",
       "      <th>address_fromto</th>\n",
       "      <th>dedup_index</th>\n",
       "    </tr>\n",
       "  </thead>\n",
       "  <tbody>\n",
       "    <tr>\n",
       "      <th>0</th>\n",
       "      <td>4</td>\n",
       "      <td>1347152</td>\n",
       "      <td>1.778241e+10</td>\n",
       "      <td>1184</td>\n",
       "      <td>5.0</td>\n",
       "      <td>1346</td>\n",
       "      <td>2057</td>\n",
       "      <td>175</td>\n",
       "      <td>16</td>\n",
       "      <td>Toyota Camry</td>\n",
       "      <td>...</td>\n",
       "      <td>-1.066667</td>\n",
       "      <td>2019/7/31 23:50</td>\n",
       "      <td>2019/7/31 23:52</td>\n",
       "      <td>2019/8/1 10:04</td>\n",
       "      <td>NaN</td>\n",
       "      <td>NaN</td>\n",
       "      <td>-4</td>\n",
       "      <td>-2</td>\n",
       "      <td>CF Richmond Centre,Number 3 Road, Richmond, BC...</td>\n",
       "      <td>CF Richmond Centre,Number 3 Road, Richmond, BC...</td>\n",
       "    </tr>\n",
       "    <tr>\n",
       "      <th>1</th>\n",
       "      <td>6</td>\n",
       "      <td>1347147</td>\n",
       "      <td>1.236889e+10</td>\n",
       "      <td>162</td>\n",
       "      <td>5.0</td>\n",
       "      <td>457</td>\n",
       "      <td>654</td>\n",
       "      <td>43</td>\n",
       "      <td>2</td>\n",
       "      <td>Tesla Model X</td>\n",
       "      <td>...</td>\n",
       "      <td>-0.250000</td>\n",
       "      <td>2019/7/31 23:48</td>\n",
       "      <td>2019/7/31 23:50</td>\n",
       "      <td>2019/8/1 23:43</td>\n",
       "      <td>NaN</td>\n",
       "      <td>NaN</td>\n",
       "      <td>-3</td>\n",
       "      <td>-1</td>\n",
       "      <td>4771 Garden City Rd, Richmond, BC V6X 3M7, Can...</td>\n",
       "      <td>4771 Garden City Rd, Richmond, BC V6X 3M7, Can...</td>\n",
       "    </tr>\n",
       "    <tr>\n",
       "      <th>2</th>\n",
       "      <td>10</td>\n",
       "      <td>1347138</td>\n",
       "      <td>1.778981e+10</td>\n",
       "      <td>95</td>\n",
       "      <td>5.0</td>\n",
       "      <td>3114</td>\n",
       "      <td>4504</td>\n",
       "      <td>812</td>\n",
       "      <td>65</td>\n",
       "      <td>Lexus RX</td>\n",
       "      <td>...</td>\n",
       "      <td>7.016667</td>\n",
       "      <td>2019/7/31 23:52</td>\n",
       "      <td>2019/7/31 23:51</td>\n",
       "      <td>2019/8/5 19:47</td>\n",
       "      <td>NaN</td>\n",
       "      <td>NaN</td>\n",
       "      <td>7</td>\n",
       "      <td>7</td>\n",
       "      <td>2976 Cliffrose Crescent,Coquitlam, BC, Canada ...</td>\n",
       "      <td>2976 Cliffrose Crescent,Coquitlam, BC, Canada ...</td>\n",
       "    </tr>\n",
       "    <tr>\n",
       "      <th>3</th>\n",
       "      <td>13</td>\n",
       "      <td>1347135</td>\n",
       "      <td>1.250687e+10</td>\n",
       "      <td>488</td>\n",
       "      <td>5.0</td>\n",
       "      <td>8665</td>\n",
       "      <td>11369</td>\n",
       "      <td>560</td>\n",
       "      <td>82</td>\n",
       "      <td>Toyota Prius</td>\n",
       "      <td>...</td>\n",
       "      <td>0.383333</td>\n",
       "      <td>2019/7/31 23:39</td>\n",
       "      <td>2019/7/31 23:43</td>\n",
       "      <td>2019/8/1 14:42</td>\n",
       "      <td>NaN</td>\n",
       "      <td>NaN</td>\n",
       "      <td>-4</td>\n",
       "      <td>0</td>\n",
       "      <td>JiangHu ??-??????,Canada, British Columbia, Ri...</td>\n",
       "      <td>JiangHu ??-??????,Canada, British Columbia, Ri...</td>\n",
       "    </tr>\n",
       "    <tr>\n",
       "      <th>4</th>\n",
       "      <td>14</td>\n",
       "      <td>1347132</td>\n",
       "      <td>1.778317e+10</td>\n",
       "      <td>1333</td>\n",
       "      <td>5.0</td>\n",
       "      <td>2038</td>\n",
       "      <td>3471</td>\n",
       "      <td>386</td>\n",
       "      <td>15</td>\n",
       "      <td>Mazda CX-9</td>\n",
       "      <td>...</td>\n",
       "      <td>-2.266667</td>\n",
       "      <td>2019/7/31 23:42</td>\n",
       "      <td>2019/7/31 23:39</td>\n",
       "      <td>2019/9/11 1:13</td>\n",
       "      <td>NaN</td>\n",
       "      <td>NaN</td>\n",
       "      <td>0</td>\n",
       "      <td>-3</td>\n",
       "      <td>7371 Westminster Highway,Richmond, BC, Canada ...</td>\n",
       "      <td>7371 Westminster Highway,Richmond, BC, Canada ...</td>\n",
       "    </tr>\n",
       "  </tbody>\n",
       "</table>\n",
       "<p>5 rows × 66 columns</p>\n",
       "</div>"
      ],
      "text/plain": [
       "   id  orderid  rider_username  driver_id  driver.rate  score_count  \\\n",
       "0   4  1347152    1.778241e+10       1184          5.0         1346   \n",
       "1   6  1347147    1.236889e+10        162          5.0          457   \n",
       "2  10  1347138    1.778981e+10         95          5.0         3114   \n",
       "3  13  1347135    1.250687e+10        488          5.0         8665   \n",
       "4  14  1347132    1.778317e+10       1333          5.0         2038   \n",
       "\n",
       "   Order_complet_count  Order_rider_cancle_count  order_admin_cancle_count  \\\n",
       "0                 2057                       175                        16   \n",
       "1                  654                        43                         2   \n",
       "2                 4504                       812                        65   \n",
       "3                11369                       560                        82   \n",
       "4                 3471                       386                        15   \n",
       "\n",
       "        car_desc  ...  tsr_osrm pickup_date.time pickup_date.time_osrm  \\\n",
       "0   Toyota Camry  ... -1.066667  2019/7/31 23:50       2019/7/31 23:52   \n",
       "1  Tesla Model X  ... -0.250000  2019/7/31 23:48       2019/7/31 23:50   \n",
       "2       Lexus RX  ...  7.016667  2019/7/31 23:52       2019/7/31 23:51   \n",
       "3   Toyota Prius  ...  0.383333  2019/7/31 23:39       2019/7/31 23:43   \n",
       "4     Mazda CX-9  ... -2.266667  2019/7/31 23:42       2019/7/31 23:39   \n",
       "\n",
       "  trip_update_date.time total.trip.cycle driver.wait.time delay delay.osrm  \\\n",
       "0        2019/8/1 10:04              NaN              NaN    -4         -2   \n",
       "1        2019/8/1 23:43              NaN              NaN    -3         -1   \n",
       "2        2019/8/5 19:47              NaN              NaN     7          7   \n",
       "3        2019/8/1 14:42              NaN              NaN    -4          0   \n",
       "4        2019/9/11 1:13              NaN              NaN     0         -3   \n",
       "\n",
       "                                      address_fromto  \\\n",
       "0  CF Richmond Centre,Number 3 Road, Richmond, BC...   \n",
       "1  4771 Garden City Rd, Richmond, BC V6X 3M7, Can...   \n",
       "2  2976 Cliffrose Crescent,Coquitlam, BC, Canada ...   \n",
       "3  JiangHu ??-??????,Canada, British Columbia, Ri...   \n",
       "4  7371 Westminster Highway,Richmond, BC, Canada ...   \n",
       "\n",
       "                                         dedup_index  \n",
       "0  CF Richmond Centre,Number 3 Road, Richmond, BC...  \n",
       "1  4771 Garden City Rd, Richmond, BC V6X 3M7, Can...  \n",
       "2  2976 Cliffrose Crescent,Coquitlam, BC, Canada ...  \n",
       "3  JiangHu ??-??????,Canada, British Columbia, Ri...  \n",
       "4  7371 Westminster Highway,Richmond, BC, Canada ...  \n",
       "\n",
       "[5 rows x 66 columns]"
      ]
     },
     "execution_count": 10,
     "metadata": {},
     "output_type": "execute_result"
    }
   ],
   "source": [
    "df.head()"
   ]
  },
  {
   "cell_type": "code",
   "execution_count": 11,
   "metadata": {},
   "outputs": [
    {
     "data": {
      "text/plain": [
       "1090"
      ]
     },
     "execution_count": 11,
     "metadata": {},
     "output_type": "execute_result"
    }
   ],
   "source": [
    "df[\"driver_id\"].nunique()"
   ]
  },
  {
   "cell_type": "markdown",
   "metadata": {},
   "source": [
    "We have a total of 1090 drivers in our dataset"
   ]
  },
  {
   "cell_type": "code",
   "execution_count": 12,
   "metadata": {},
   "outputs": [
    {
     "data": {
      "text/plain": [
       "579729"
      ]
     },
     "execution_count": 12,
     "metadata": {},
     "output_type": "execute_result"
    }
   ],
   "source": [
    "df[\"orderid\"].nunique()"
   ]
  },
  {
   "cell_type": "markdown",
   "metadata": {},
   "source": [
    "And 579729 trips"
   ]
  },
  {
   "cell_type": "markdown",
   "metadata": {},
   "source": [
    "# Preliminary Data Excavation "
   ]
  },
  {
   "cell_type": "code",
   "execution_count": 14,
   "metadata": {},
   "outputs": [
    {
     "data": {
      "text/html": [
       "<div>\n",
       "<style scoped>\n",
       "    .dataframe tbody tr th:only-of-type {\n",
       "        vertical-align: middle;\n",
       "    }\n",
       "\n",
       "    .dataframe tbody tr th {\n",
       "        vertical-align: top;\n",
       "    }\n",
       "\n",
       "    .dataframe thead th {\n",
       "        text-align: right;\n",
       "    }\n",
       "</style>\n",
       "<table border=\"1\" class=\"dataframe\">\n",
       "  <thead>\n",
       "    <tr style=\"text-align: right;\">\n",
       "      <th></th>\n",
       "      <th>id</th>\n",
       "      <th>orderid</th>\n",
       "      <th>rider_username</th>\n",
       "      <th>driver_id</th>\n",
       "      <th>driver.rate</th>\n",
       "      <th>score_count</th>\n",
       "      <th>Order_complet_count</th>\n",
       "      <th>Order_rider_cancle_count</th>\n",
       "      <th>order_admin_cancle_count</th>\n",
       "      <th>car_desc</th>\n",
       "      <th>...</th>\n",
       "      <th>tsr_osrm</th>\n",
       "      <th>pickup_date.time</th>\n",
       "      <th>pickup_date.time_osrm</th>\n",
       "      <th>trip_update_date.time</th>\n",
       "      <th>total.trip.cycle</th>\n",
       "      <th>driver.wait.time</th>\n",
       "      <th>delay</th>\n",
       "      <th>delay.osrm</th>\n",
       "      <th>address_fromto</th>\n",
       "      <th>dedup_index</th>\n",
       "    </tr>\n",
       "  </thead>\n",
       "  <tbody>\n",
       "    <tr>\n",
       "      <th>217991</th>\n",
       "      <td>245575</td>\n",
       "      <td>1099338</td>\n",
       "      <td>1.250208e+10</td>\n",
       "      <td>1852</td>\n",
       "      <td>0.0</td>\n",
       "      <td>0</td>\n",
       "      <td>0</td>\n",
       "      <td>0</td>\n",
       "      <td>0</td>\n",
       "      <td>Lexus RX</td>\n",
       "      <td>...</td>\n",
       "      <td>17.833333</td>\n",
       "      <td>2019/4/17 16:29</td>\n",
       "      <td>2019/4/17 16:30</td>\n",
       "      <td>2019/4/17 16:46</td>\n",
       "      <td>NaN</td>\n",
       "      <td>NaN</td>\n",
       "      <td>16</td>\n",
       "      <td>17</td>\n",
       "      <td>5800 Minoru Blvd, Richmond, BC V6X 2B1, Canada...</td>\n",
       "      <td>5800 Minoru Blvd, Richmond, BC V6X 2B1, Canada...</td>\n",
       "    </tr>\n",
       "    <tr>\n",
       "      <th>218656</th>\n",
       "      <td>246305</td>\n",
       "      <td>1098606</td>\n",
       "      <td>1.778887e+10</td>\n",
       "      <td>1852</td>\n",
       "      <td>0.0</td>\n",
       "      <td>0</td>\n",
       "      <td>0</td>\n",
       "      <td>0</td>\n",
       "      <td>0</td>\n",
       "      <td>Lexus RX</td>\n",
       "      <td>...</td>\n",
       "      <td>11.350000</td>\n",
       "      <td>2019/4/17 10:58</td>\n",
       "      <td>2019/4/17 11:01</td>\n",
       "      <td>2019/4/17 11:03</td>\n",
       "      <td>5H 22M 39S</td>\n",
       "      <td>5H 8M 48S</td>\n",
       "      <td>8</td>\n",
       "      <td>11</td>\n",
       "      <td>6633 Pearson Way,Richmond, BC, Canada 7373 Wes...</td>\n",
       "      <td>6633 Pearson Way,Richmond, BC, Canada 7373 Wes...</td>\n",
       "    </tr>\n",
       "    <tr>\n",
       "      <th>229338</th>\n",
       "      <td>258265</td>\n",
       "      <td>1086522</td>\n",
       "      <td>1.779000e+10</td>\n",
       "      <td>1852</td>\n",
       "      <td>0.0</td>\n",
       "      <td>0</td>\n",
       "      <td>0</td>\n",
       "      <td>0</td>\n",
       "      <td>0</td>\n",
       "      <td>Lexus RX</td>\n",
       "      <td>...</td>\n",
       "      <td>25.216667</td>\n",
       "      <td>2019/4/12 16:20</td>\n",
       "      <td>2019/4/12 16:23</td>\n",
       "      <td>2019/4/12 16:31</td>\n",
       "      <td>4d 18H 51M 31S</td>\n",
       "      <td>4d 18H 18M 42S</td>\n",
       "      <td>21</td>\n",
       "      <td>25</td>\n",
       "      <td>5311 Cedarbridge Way,Richmond, BC, Canada 1145...</td>\n",
       "      <td>5311 Cedarbridge Way,Richmond, BC, Canada 1145...</td>\n",
       "    </tr>\n",
       "    <tr>\n",
       "      <th>230234</th>\n",
       "      <td>259236</td>\n",
       "      <td>1085548</td>\n",
       "      <td>1.778241e+10</td>\n",
       "      <td>1852</td>\n",
       "      <td>0.0</td>\n",
       "      <td>0</td>\n",
       "      <td>0</td>\n",
       "      <td>0</td>\n",
       "      <td>0</td>\n",
       "      <td>Lexus RX</td>\n",
       "      <td>...</td>\n",
       "      <td>21.933333</td>\n",
       "      <td>2019/4/12 9:59</td>\n",
       "      <td>2019/4/12 10:02</td>\n",
       "      <td>2019/4/12 10:06</td>\n",
       "      <td>6H 17M 54S</td>\n",
       "      <td>5H 52M 4S</td>\n",
       "      <td>18</td>\n",
       "      <td>21</td>\n",
       "      <td>6020 Dover Road,Richmond, BC, Canada Richmond-...</td>\n",
       "      <td>6020 Dover Road,Richmond, BC, Canada Richmond-...</td>\n",
       "    </tr>\n",
       "    <tr>\n",
       "      <th>373289</th>\n",
       "      <td>422624</td>\n",
       "      <td>920474</td>\n",
       "      <td>1.250893e+10</td>\n",
       "      <td>1727</td>\n",
       "      <td>0.0</td>\n",
       "      <td>0</td>\n",
       "      <td>0</td>\n",
       "      <td>0</td>\n",
       "      <td>0</td>\n",
       "      <td>Land Rover Range Rover Sport</td>\n",
       "      <td>...</td>\n",
       "      <td>24.283330</td>\n",
       "      <td>2019/2/8 19:36</td>\n",
       "      <td>2019/2/8 19:40</td>\n",
       "      <td>2019/2/8 19:50</td>\n",
       "      <td>NaN</td>\n",
       "      <td>NaN</td>\n",
       "      <td>20</td>\n",
       "      <td>24</td>\n",
       "      <td>Walmart Victoria Supercentre,Saanich Road, Vic...</td>\n",
       "      <td>Walmart Victoria Supercentre,Saanich Road, Vic...</td>\n",
       "    </tr>\n",
       "    <tr>\n",
       "      <th>373365</th>\n",
       "      <td>422713</td>\n",
       "      <td>920385</td>\n",
       "      <td>1.250813e+10</td>\n",
       "      <td>1727</td>\n",
       "      <td>0.0</td>\n",
       "      <td>0</td>\n",
       "      <td>0</td>\n",
       "      <td>0</td>\n",
       "      <td>0</td>\n",
       "      <td>Land Rover Range Rover Sport</td>\n",
       "      <td>...</td>\n",
       "      <td>8.700000</td>\n",
       "      <td>2019/2/8 19:01</td>\n",
       "      <td>2019/2/8 19:01</td>\n",
       "      <td>2019/2/8 19:05</td>\n",
       "      <td>23M 3S</td>\n",
       "      <td>10M 15S</td>\n",
       "      <td>8</td>\n",
       "      <td>8</td>\n",
       "      <td>3669 Shelbourne St, Victoria, BC V8P 4H1, Cana...</td>\n",
       "      <td>3669 Shelbourne St, Victoria, BC V8P 4H1, Cana...</td>\n",
       "    </tr>\n",
       "    <tr>\n",
       "      <th>404443</th>\n",
       "      <td>458777</td>\n",
       "      <td>883951</td>\n",
       "      <td>1.604729e+10</td>\n",
       "      <td>1710</td>\n",
       "      <td>0.0</td>\n",
       "      <td>0</td>\n",
       "      <td>0</td>\n",
       "      <td>0</td>\n",
       "      <td>0</td>\n",
       "      <td>Lexus IS</td>\n",
       "      <td>...</td>\n",
       "      <td>6.566667</td>\n",
       "      <td>2019/1/25 22:55</td>\n",
       "      <td>2019/1/25 22:58</td>\n",
       "      <td>2019/1/25 23:17</td>\n",
       "      <td>NaN</td>\n",
       "      <td>NaN</td>\n",
       "      <td>3</td>\n",
       "      <td>6</td>\n",
       "      <td>0755 Restaurant &amp; Lounge,Sexsmith Road, Richmo...</td>\n",
       "      <td>0755 Restaurant &amp; Lounge,Sexsmith Road, Richmo...</td>\n",
       "    </tr>\n",
       "    <tr>\n",
       "      <th>405320</th>\n",
       "      <td>459805</td>\n",
       "      <td>882917</td>\n",
       "      <td>1.604722e+10</td>\n",
       "      <td>1710</td>\n",
       "      <td>0.0</td>\n",
       "      <td>0</td>\n",
       "      <td>0</td>\n",
       "      <td>0</td>\n",
       "      <td>0</td>\n",
       "      <td>Lexus IS</td>\n",
       "      <td>...</td>\n",
       "      <td>13.900000</td>\n",
       "      <td>2019/1/25 19:05</td>\n",
       "      <td>2019/1/25 19:07</td>\n",
       "      <td>2019/1/25 19:09</td>\n",
       "      <td>3H 58M 21S</td>\n",
       "      <td>3H 42M 51S</td>\n",
       "      <td>11</td>\n",
       "      <td>13</td>\n",
       "      <td>8288 Lansdowne Road,Richmond, BC, Canada ?? sh...</td>\n",
       "      <td>8288 Lansdowne Road,Richmond, BC, Canada ?? sh...</td>\n",
       "    </tr>\n",
       "    <tr>\n",
       "      <th>426992</th>\n",
       "      <td>484138</td>\n",
       "      <td>858383</td>\n",
       "      <td>8.610000e+12</td>\n",
       "      <td>1670</td>\n",
       "      <td>0.0</td>\n",
       "      <td>0</td>\n",
       "      <td>0</td>\n",
       "      <td>0</td>\n",
       "      <td>0</td>\n",
       "      <td>Subaru Impreza WRX</td>\n",
       "      <td>...</td>\n",
       "      <td>28.300000</td>\n",
       "      <td>2019/1/15 17:26</td>\n",
       "      <td>2019/1/15 17:26</td>\n",
       "      <td>2019/1/15 17:34</td>\n",
       "      <td>NaN</td>\n",
       "      <td>NaN</td>\n",
       "      <td>28</td>\n",
       "      <td>28</td>\n",
       "      <td>6854 Carnegie Street,Burnaby, BC, Canada 9877 ...</td>\n",
       "      <td>6854 Carnegie Street,Burnaby, BC, Canada 9877 ...</td>\n",
       "    </tr>\n",
       "    <tr>\n",
       "      <th>430536</th>\n",
       "      <td>488103</td>\n",
       "      <td>854375</td>\n",
       "      <td>1.778513e+10</td>\n",
       "      <td>1670</td>\n",
       "      <td>0.0</td>\n",
       "      <td>0</td>\n",
       "      <td>0</td>\n",
       "      <td>0</td>\n",
       "      <td>0</td>\n",
       "      <td>Subaru Impreza WRX</td>\n",
       "      <td>...</td>\n",
       "      <td>15.950000</td>\n",
       "      <td>2019/1/13 19:08</td>\n",
       "      <td>2019/1/13 19:10</td>\n",
       "      <td>2019/1/13 19:13</td>\n",
       "      <td>1d 22H 3M 43S</td>\n",
       "      <td>1d 21H 44M 28S</td>\n",
       "      <td>14</td>\n",
       "      <td>15</td>\n",
       "      <td>2991 Lougheed Hwy #120, Coquitlam, BC V3B 6J6,...</td>\n",
       "      <td>2991 Lougheed Hwy #120, Coquitlam, BC V3B 6J6,...</td>\n",
       "    </tr>\n",
       "    <tr>\n",
       "      <th>434718</th>\n",
       "      <td>492802</td>\n",
       "      <td>849643</td>\n",
       "      <td>1.250885e+10</td>\n",
       "      <td>1647</td>\n",
       "      <td>0.0</td>\n",
       "      <td>0</td>\n",
       "      <td>0</td>\n",
       "      <td>0</td>\n",
       "      <td>0</td>\n",
       "      <td>Land Rover Range Rover Evoque</td>\n",
       "      <td>...</td>\n",
       "      <td>10.233330</td>\n",
       "      <td>2019/1/11 22:10</td>\n",
       "      <td>2019/1/11 22:12</td>\n",
       "      <td>2019/1/11 22:18</td>\n",
       "      <td>NaN</td>\n",
       "      <td>NaN</td>\n",
       "      <td>7</td>\n",
       "      <td>10</td>\n",
       "      <td>Ding Tea,Shelbourne Street, Victoria, BC, Cana...</td>\n",
       "      <td>Ding Tea,Shelbourne Street, Victoria, BC, Cana...</td>\n",
       "    </tr>\n",
       "    <tr>\n",
       "      <th>518209</th>\n",
       "      <td>588586</td>\n",
       "      <td>752862</td>\n",
       "      <td>1.604367e+10</td>\n",
       "      <td>1622</td>\n",
       "      <td>0.0</td>\n",
       "      <td>0</td>\n",
       "      <td>0</td>\n",
       "      <td>0</td>\n",
       "      <td>0</td>\n",
       "      <td>Honda CR-V</td>\n",
       "      <td>...</td>\n",
       "      <td>14.283330</td>\n",
       "      <td>2018/12/1 10:41</td>\n",
       "      <td>2018/12/1 10:44</td>\n",
       "      <td>2018/12/1 10:49</td>\n",
       "      <td>NaN</td>\n",
       "      <td>NaN</td>\n",
       "      <td>11</td>\n",
       "      <td>14</td>\n",
       "      <td>7651 Gilbert Road,Richmond, BC, Canada Happy T...</td>\n",
       "      <td>7651 Gilbert Road,Richmond, BC, Canada Happy T...</td>\n",
       "    </tr>\n",
       "  </tbody>\n",
       "</table>\n",
       "<p>12 rows × 66 columns</p>\n",
       "</div>"
      ],
      "text/plain": [
       "            id  orderid  rider_username  driver_id  driver.rate  score_count  \\\n",
       "217991  245575  1099338    1.250208e+10       1852          0.0            0   \n",
       "218656  246305  1098606    1.778887e+10       1852          0.0            0   \n",
       "229338  258265  1086522    1.779000e+10       1852          0.0            0   \n",
       "230234  259236  1085548    1.778241e+10       1852          0.0            0   \n",
       "373289  422624   920474    1.250893e+10       1727          0.0            0   \n",
       "373365  422713   920385    1.250813e+10       1727          0.0            0   \n",
       "404443  458777   883951    1.604729e+10       1710          0.0            0   \n",
       "405320  459805   882917    1.604722e+10       1710          0.0            0   \n",
       "426992  484138   858383    8.610000e+12       1670          0.0            0   \n",
       "430536  488103   854375    1.778513e+10       1670          0.0            0   \n",
       "434718  492802   849643    1.250885e+10       1647          0.0            0   \n",
       "518209  588586   752862    1.604367e+10       1622          0.0            0   \n",
       "\n",
       "        Order_complet_count  Order_rider_cancle_count  \\\n",
       "217991                    0                         0   \n",
       "218656                    0                         0   \n",
       "229338                    0                         0   \n",
       "230234                    0                         0   \n",
       "373289                    0                         0   \n",
       "373365                    0                         0   \n",
       "404443                    0                         0   \n",
       "405320                    0                         0   \n",
       "426992                    0                         0   \n",
       "430536                    0                         0   \n",
       "434718                    0                         0   \n",
       "518209                    0                         0   \n",
       "\n",
       "        order_admin_cancle_count                       car_desc  ...  \\\n",
       "217991                         0                       Lexus RX  ...   \n",
       "218656                         0                       Lexus RX  ...   \n",
       "229338                         0                       Lexus RX  ...   \n",
       "230234                         0                       Lexus RX  ...   \n",
       "373289                         0   Land Rover Range Rover Sport  ...   \n",
       "373365                         0   Land Rover Range Rover Sport  ...   \n",
       "404443                         0                       Lexus IS  ...   \n",
       "405320                         0                       Lexus IS  ...   \n",
       "426992                         0             Subaru Impreza WRX  ...   \n",
       "430536                         0             Subaru Impreza WRX  ...   \n",
       "434718                         0  Land Rover Range Rover Evoque  ...   \n",
       "518209                         0                     Honda CR-V  ...   \n",
       "\n",
       "         tsr_osrm pickup_date.time pickup_date.time_osrm  \\\n",
       "217991  17.833333  2019/4/17 16:29       2019/4/17 16:30   \n",
       "218656  11.350000  2019/4/17 10:58       2019/4/17 11:01   \n",
       "229338  25.216667  2019/4/12 16:20       2019/4/12 16:23   \n",
       "230234  21.933333   2019/4/12 9:59       2019/4/12 10:02   \n",
       "373289  24.283330   2019/2/8 19:36        2019/2/8 19:40   \n",
       "373365   8.700000   2019/2/8 19:01        2019/2/8 19:01   \n",
       "404443   6.566667  2019/1/25 22:55       2019/1/25 22:58   \n",
       "405320  13.900000  2019/1/25 19:05       2019/1/25 19:07   \n",
       "426992  28.300000  2019/1/15 17:26       2019/1/15 17:26   \n",
       "430536  15.950000  2019/1/13 19:08       2019/1/13 19:10   \n",
       "434718  10.233330  2019/1/11 22:10       2019/1/11 22:12   \n",
       "518209  14.283330  2018/12/1 10:41       2018/12/1 10:44   \n",
       "\n",
       "       trip_update_date.time total.trip.cycle driver.wait.time delay  \\\n",
       "217991       2019/4/17 16:46              NaN              NaN    16   \n",
       "218656       2019/4/17 11:03       5H 22M 39S        5H 8M 48S     8   \n",
       "229338       2019/4/12 16:31   4d 18H 51M 31S   4d 18H 18M 42S    21   \n",
       "230234       2019/4/12 10:06       6H 17M 54S        5H 52M 4S    18   \n",
       "373289        2019/2/8 19:50              NaN              NaN    20   \n",
       "373365        2019/2/8 19:05           23M 3S          10M 15S     8   \n",
       "404443       2019/1/25 23:17              NaN              NaN     3   \n",
       "405320       2019/1/25 19:09       3H 58M 21S       3H 42M 51S    11   \n",
       "426992       2019/1/15 17:34              NaN              NaN    28   \n",
       "430536       2019/1/13 19:13    1d 22H 3M 43S   1d 21H 44M 28S    14   \n",
       "434718       2019/1/11 22:18              NaN              NaN     7   \n",
       "518209       2018/12/1 10:49              NaN              NaN    11   \n",
       "\n",
       "       delay.osrm                                     address_fromto  \\\n",
       "217991         17  5800 Minoru Blvd, Richmond, BC V6X 2B1, Canada...   \n",
       "218656         11  6633 Pearson Way,Richmond, BC, Canada 7373 Wes...   \n",
       "229338         25  5311 Cedarbridge Way,Richmond, BC, Canada 1145...   \n",
       "230234         21  6020 Dover Road,Richmond, BC, Canada Richmond-...   \n",
       "373289         24  Walmart Victoria Supercentre,Saanich Road, Vic...   \n",
       "373365          8  3669 Shelbourne St, Victoria, BC V8P 4H1, Cana...   \n",
       "404443          6  0755 Restaurant & Lounge,Sexsmith Road, Richmo...   \n",
       "405320         13  8288 Lansdowne Road,Richmond, BC, Canada ?? sh...   \n",
       "426992         28  6854 Carnegie Street,Burnaby, BC, Canada 9877 ...   \n",
       "430536         15  2991 Lougheed Hwy #120, Coquitlam, BC V3B 6J6,...   \n",
       "434718         10  Ding Tea,Shelbourne Street, Victoria, BC, Cana...   \n",
       "518209         14  7651 Gilbert Road,Richmond, BC, Canada Happy T...   \n",
       "\n",
       "                                              dedup_index  \n",
       "217991  5800 Minoru Blvd, Richmond, BC V6X 2B1, Canada...  \n",
       "218656  6633 Pearson Way,Richmond, BC, Canada 7373 Wes...  \n",
       "229338  5311 Cedarbridge Way,Richmond, BC, Canada 1145...  \n",
       "230234  6020 Dover Road,Richmond, BC, Canada Richmond-...  \n",
       "373289  Walmart Victoria Supercentre,Saanich Road, Vic...  \n",
       "373365  3669 Shelbourne St, Victoria, BC V8P 4H1, Cana...  \n",
       "404443  0755 Restaurant & Lounge,Sexsmith Road, Richmo...  \n",
       "405320  8288 Lansdowne Road,Richmond, BC, Canada ?? sh...  \n",
       "426992  6854 Carnegie Street,Burnaby, BC, Canada 9877 ...  \n",
       "430536  2991 Lougheed Hwy #120, Coquitlam, BC V3B 6J6,...  \n",
       "434718  Ding Tea,Shelbourne Street, Victoria, BC, Cana...  \n",
       "518209  7651 Gilbert Road,Richmond, BC, Canada Happy T...  \n",
       "\n",
       "[12 rows x 66 columns]"
      ]
     },
     "execution_count": 14,
     "metadata": {},
     "output_type": "execute_result"
    }
   ],
   "source": [
    "df.loc[df[\"Order_complet_count\"] == 0]"
   ]
  },
  {
   "cell_type": "markdown",
   "metadata": {},
   "source": [
    "It seems that these drivers have completed trips however there are data issues with their driver profile"
   ]
  },
  {
   "cell_type": "markdown",
   "metadata": {},
   "source": [
    "## Driver Experience"
   ]
  },
  {
   "cell_type": "code",
   "execution_count": 15,
   "metadata": {},
   "outputs": [
    {
     "data": {
      "text/html": [
       "<div>\n",
       "<style scoped>\n",
       "    .dataframe tbody tr th:only-of-type {\n",
       "        vertical-align: middle;\n",
       "    }\n",
       "\n",
       "    .dataframe tbody tr th {\n",
       "        vertical-align: top;\n",
       "    }\n",
       "\n",
       "    .dataframe thead th {\n",
       "        text-align: right;\n",
       "    }\n",
       "</style>\n",
       "<table border=\"1\" class=\"dataframe\">\n",
       "  <thead>\n",
       "    <tr style=\"text-align: right;\">\n",
       "      <th></th>\n",
       "      <th>Order_complet_count</th>\n",
       "    </tr>\n",
       "  </thead>\n",
       "  <tbody>\n",
       "    <tr>\n",
       "      <th>count</th>\n",
       "      <td>1090.000000</td>\n",
       "    </tr>\n",
       "    <tr>\n",
       "      <th>mean</th>\n",
       "      <td>1043.508257</td>\n",
       "    </tr>\n",
       "    <tr>\n",
       "      <th>std</th>\n",
       "      <td>1697.370345</td>\n",
       "    </tr>\n",
       "    <tr>\n",
       "      <th>min</th>\n",
       "      <td>0.000000</td>\n",
       "    </tr>\n",
       "    <tr>\n",
       "      <th>25%</th>\n",
       "      <td>104.250000</td>\n",
       "    </tr>\n",
       "    <tr>\n",
       "      <th>50%</th>\n",
       "      <td>362.000000</td>\n",
       "    </tr>\n",
       "    <tr>\n",
       "      <th>75%</th>\n",
       "      <td>1253.500000</td>\n",
       "    </tr>\n",
       "    <tr>\n",
       "      <th>max</th>\n",
       "      <td>11599.000000</td>\n",
       "    </tr>\n",
       "  </tbody>\n",
       "</table>\n",
       "</div>"
      ],
      "text/plain": [
       "       Order_complet_count\n",
       "count          1090.000000\n",
       "mean           1043.508257\n",
       "std            1697.370345\n",
       "min               0.000000\n",
       "25%             104.250000\n",
       "50%             362.000000\n",
       "75%            1253.500000\n",
       "max           11599.000000"
      ]
     },
     "execution_count": 15,
     "metadata": {},
     "output_type": "execute_result"
    }
   ],
   "source": [
    "df_order_complete = df[[\"driver_id\",\"Order_complet_count\"]].groupby([\"driver_id\"]).mean()\n",
    "df_order_complete.describe()"
   ]
  },
  {
   "cell_type": "code",
   "execution_count": 16,
   "metadata": {
    "scrolled": false
   },
   "outputs": [
    {
     "data": {
      "text/plain": [
       "<AxesSubplot:>"
      ]
     },
     "execution_count": 16,
     "metadata": {},
     "output_type": "execute_result"
    },
    {
     "data": {
      "image/png": "[encoded data removed]",
      "text/plain": [
       "<Figure size 432x288 with 1 Axes>"
      ]
     },
     "metadata": {
      "needs_background": "light"
     },
     "output_type": "display_data"
    }
   ],
   "source": [
    "df_order_complete[\"Order_complet_count\"].hist(bins = 10)"
   ]
  },
  {
   "cell_type": "markdown",
   "metadata": {},
   "source": [
    "Most drivers have completed less than 400 trips during the period of analysis"
   ]
  },
  {
   "cell_type": "markdown",
   "metadata": {},
   "source": [
    "## Driver Quality"
   ]
  },
  {
   "cell_type": "code",
   "execution_count": 17,
   "metadata": {},
   "outputs": [],
   "source": [
    "df[\"rider_cancel_prop\"] = df[\"Order_rider_cancle_count\"]/(df[\"Order_complet_count\"] + df[\"Order_rider_cancle_count\"])\n",
    "df[\"admin_cancel_prop\"] = df[\"order_admin_cancle_count\"]/(df[\"Order_complet_count\"] + df[\"order_admin_cancle_count\"])\n",
    "df_order_rider_cancel = df[[\"driver_id\",\"rider_cancel_prop\"]].groupby([\"driver_id\"]).mean()\n",
    "df_order_admin_cancel = df[[\"driver_id\",\"admin_cancel_prop\"]].groupby([\"driver_id\"]).mean()"
   ]
  },
  {
   "cell_type": "code",
   "execution_count": 18,
   "metadata": {},
   "outputs": [
    {
     "data": {
      "text/html": [
       "<div>\n",
       "<style scoped>\n",
       "    .dataframe tbody tr th:only-of-type {\n",
       "        vertical-align: middle;\n",
       "    }\n",
       "\n",
       "    .dataframe tbody tr th {\n",
       "        vertical-align: top;\n",
       "    }\n",
       "\n",
       "    .dataframe thead th {\n",
       "        text-align: right;\n",
       "    }\n",
       "</style>\n",
       "<table border=\"1\" class=\"dataframe\">\n",
       "  <thead>\n",
       "    <tr style=\"text-align: right;\">\n",
       "      <th></th>\n",
       "      <th>rider_cancel_prop</th>\n",
       "    </tr>\n",
       "  </thead>\n",
       "  <tbody>\n",
       "    <tr>\n",
       "      <th>count</th>\n",
       "      <td>1084.000000</td>\n",
       "    </tr>\n",
       "    <tr>\n",
       "      <th>mean</th>\n",
       "      <td>0.132543</td>\n",
       "    </tr>\n",
       "    <tr>\n",
       "      <th>std</th>\n",
       "      <td>0.081518</td>\n",
       "    </tr>\n",
       "    <tr>\n",
       "      <th>min</th>\n",
       "      <td>0.000000</td>\n",
       "    </tr>\n",
       "    <tr>\n",
       "      <th>25%</th>\n",
       "      <td>0.082743</td>\n",
       "    </tr>\n",
       "    <tr>\n",
       "      <th>50%</th>\n",
       "      <td>0.114892</td>\n",
       "    </tr>\n",
       "    <tr>\n",
       "      <th>75%</th>\n",
       "      <td>0.163345</td>\n",
       "    </tr>\n",
       "    <tr>\n",
       "      <th>max</th>\n",
       "      <td>0.764706</td>\n",
       "    </tr>\n",
       "  </tbody>\n",
       "</table>\n",
       "</div>"
      ],
      "text/plain": [
       "       rider_cancel_prop\n",
       "count        1084.000000\n",
       "mean            0.132543\n",
       "std             0.081518\n",
       "min             0.000000\n",
       "25%             0.082743\n",
       "50%             0.114892\n",
       "75%             0.163345\n",
       "max             0.764706"
      ]
     },
     "execution_count": 18,
     "metadata": {},
     "output_type": "execute_result"
    }
   ],
   "source": [
    "df_order_rider_cancel.describe()"
   ]
  },
  {
   "cell_type": "code",
   "execution_count": 19,
   "metadata": {},
   "outputs": [
    {
     "data": {
      "text/plain": [
       "<AxesSubplot:>"
      ]
     },
     "execution_count": 19,
     "metadata": {},
     "output_type": "execute_result"
    },
    {
     "data": {
      "image/png": "[encoded data removed]",
      "text/plain": [
       "<Figure size 432x288 with 1 Axes>"
      ]
     },
     "metadata": {
      "needs_background": "light"
     },
     "output_type": "display_data"
    }
   ],
   "source": [
    "df_order_rider_cancel[\"rider_cancel_prop\"].hist(bins = 10)"
   ]
  },
  {
   "cell_type": "markdown",
   "metadata": {},
   "source": [
    "On average roughly 13% of orders are cancelled by the customer for each driver."
   ]
  },
  {
   "cell_type": "code",
   "execution_count": 20,
   "metadata": {},
   "outputs": [
    {
     "data": {
      "text/html": [
       "<div>\n",
       "<style scoped>\n",
       "    .dataframe tbody tr th:only-of-type {\n",
       "        vertical-align: middle;\n",
       "    }\n",
       "\n",
       "    .dataframe tbody tr th {\n",
       "        vertical-align: top;\n",
       "    }\n",
       "\n",
       "    .dataframe thead th {\n",
       "        text-align: right;\n",
       "    }\n",
       "</style>\n",
       "<table border=\"1\" class=\"dataframe\">\n",
       "  <thead>\n",
       "    <tr style=\"text-align: right;\">\n",
       "      <th></th>\n",
       "      <th>admin_cancel_prop</th>\n",
       "    </tr>\n",
       "  </thead>\n",
       "  <tbody>\n",
       "    <tr>\n",
       "      <th>count</th>\n",
       "      <td>1084.000000</td>\n",
       "    </tr>\n",
       "    <tr>\n",
       "      <th>mean</th>\n",
       "      <td>0.008680</td>\n",
       "    </tr>\n",
       "    <tr>\n",
       "      <th>std</th>\n",
       "      <td>0.026167</td>\n",
       "    </tr>\n",
       "    <tr>\n",
       "      <th>min</th>\n",
       "      <td>0.000000</td>\n",
       "    </tr>\n",
       "    <tr>\n",
       "      <th>25%</th>\n",
       "      <td>0.000000</td>\n",
       "    </tr>\n",
       "    <tr>\n",
       "      <th>50%</th>\n",
       "      <td>0.004998</td>\n",
       "    </tr>\n",
       "    <tr>\n",
       "      <th>75%</th>\n",
       "      <td>0.010050</td>\n",
       "    </tr>\n",
       "    <tr>\n",
       "      <th>max</th>\n",
       "      <td>0.666667</td>\n",
       "    </tr>\n",
       "  </tbody>\n",
       "</table>\n",
       "</div>"
      ],
      "text/plain": [
       "       admin_cancel_prop\n",
       "count        1084.000000\n",
       "mean            0.008680\n",
       "std             0.026167\n",
       "min             0.000000\n",
       "25%             0.000000\n",
       "50%             0.004998\n",
       "75%             0.010050\n",
       "max             0.666667"
      ]
     },
     "execution_count": 20,
     "metadata": {},
     "output_type": "execute_result"
    }
   ],
   "source": [
    "df_order_admin_cancel.describe()"
   ]
  },
  {
   "cell_type": "code",
   "execution_count": 21,
   "metadata": {},
   "outputs": [
    {
     "data": {
      "text/plain": [
       "<AxesSubplot:>"
      ]
     },
     "execution_count": 21,
     "metadata": {},
     "output_type": "execute_result"
    },
    {
     "data": {
      "image/png": "[encoded data removed]",
      "text/plain": [
       "<Figure size 432x288 with 1 Axes>"
      ]
     },
     "metadata": {
      "needs_background": "light"
     },
     "output_type": "display_data"
    }
   ],
   "source": [
    "df_order_admin_cancel[\"admin_cancel_prop\"].hist(bins = 10)"
   ]
  },
  {
   "cell_type": "markdown",
   "metadata": {},
   "source": [
    "Very few orders are cancelled by Kabu on average less than 1%"
   ]
  },
  {
   "cell_type": "markdown",
   "metadata": {},
   "source": [
    "NOTE: We only had 1084 drivers because 6 drivers have 0 completed orders so we excluded them"
   ]
  },
  {
   "cell_type": "markdown",
   "metadata": {},
   "source": [
    "## Vehicles"
   ]
  },
  {
   "cell_type": "markdown",
   "metadata": {},
   "source": [
    "Based on number of trips"
   ]
  },
  {
   "cell_type": "code",
   "execution_count": 22,
   "metadata": {
    "scrolled": true
   },
   "outputs": [
    {
     "data": {
      "text/plain": [
       "<AxesSubplot:title={'center':'Frequency of Car Types by Trip'}>"
      ]
     },
     "execution_count": 22,
     "metadata": {},
     "output_type": "execute_result"
    },
    {
     "data": {
      "image/png": "[encoded data removed]",
      "text/plain": [
       "<Figure size 432x288 with 1 Axes>"
      ]
     },
     "metadata": {
      "needs_background": "light"
     },
     "output_type": "display_data"
    }
   ],
   "source": [
    "df_vehicles_by_trips = df[\"car_desc\"].value_counts()\n",
    "df_vehicles_by_trips.head(20).plot(kind = \"bar\", title  = \"Frequency of Car Types by Trip\")"
   ]
  },
  {
   "cell_type": "markdown",
   "metadata": {},
   "source": [
    "Based on driver"
   ]
  },
  {
   "cell_type": "code",
   "execution_count": 23,
   "metadata": {},
   "outputs": [
    {
     "data": {
      "text/plain": [
       "<AxesSubplot:title={'center':'Frequency of Car Types by Driver'}, xlabel='car_desc'>"
      ]
     },
     "execution_count": 23,
     "metadata": {},
     "output_type": "execute_result"
    },
    {
     "data": {
      "image/png": "[encoded data removed]",
      "text/plain": [
       "<Figure size 432x288 with 1 Axes>"
      ]
     },
     "metadata": {
      "needs_background": "light"
     },
     "output_type": "display_data"
    }
   ],
   "source": [
    "df_vehicles_by_drivers = df[[\"driver_id\",\"car_desc\"]].groupby([\"driver_id\"])\n",
    "df_vehicles_by_drivers = df_vehicles_by_drivers.first()\n",
    "df_vehicles_by_drivers = df_vehicles_by_drivers.value_counts()\n",
    "df_vehicles_by_drivers.head(20).plot(kind = \"bar\", title  = \"Frequency of Car Types by Driver\")"
   ]
  },
  {
   "cell_type": "markdown",
   "metadata": {},
   "source": [
    "## Cities Frequency"
   ]
  },
  {
   "cell_type": "markdown",
   "metadata": {},
   "source": [
    "Frequency of start locations by trip"
   ]
  },
  {
   "cell_type": "code",
   "execution_count": 24,
   "metadata": {},
   "outputs": [
    {
     "data": {
      "text/plain": [
       "<AxesSubplot:title={'center':'Trip Volume by Start Location'}>"
      ]
     },
     "execution_count": 24,
     "metadata": {},
     "output_type": "execute_result"
    },
    {
     "data": {
      "image/png": "[encoded data removed]",
      "text/plain": [
       "<Figure size 432x288 with 1 Axes>"
      ]
     },
     "metadata": {
      "needs_background": "light"
     },
     "output_type": "display_data"
    }
   ],
   "source": [
    "df[\"cities_from\"] = df.address_from.str.split(',').str[-3]\n",
    "df[\"cities_from\"] = df[\"cities_from\"].str.strip()\n",
    "cities_from = df[\"cities_from\"].value_counts()\n",
    "cities_from.head(10).plot(kind = \"bar\", title  = \"Trip Volume by Start Location\")"
   ]
  },
  {
   "cell_type": "markdown",
   "metadata": {},
   "source": [
    "Frequency of destination locations by trip"
   ]
  },
  {
   "cell_type": "code",
   "execution_count": 25,
   "metadata": {},
   "outputs": [
    {
     "data": {
      "text/plain": [
       "<AxesSubplot:title={'center':'Trip Volume by Destination'}>"
      ]
     },
     "execution_count": 25,
     "metadata": {},
     "output_type": "execute_result"
    },
    {
     "data": {
      "image/png": "[encoded data removed]",
      "text/plain": [
       "<Figure size 432x288 with 1 Axes>"
      ]
     },
     "metadata": {
      "needs_background": "light"
     },
     "output_type": "display_data"
    }
   ],
   "source": [
    "df[\"cities_to\"] = df.address_to.str.split(',').str[-3]\n",
    "df[\"cities_to\"] = df[\"cities_to\"].str.strip()\n",
    "cities_to = df[\"cities_to\"].value_counts()\n",
    "cities_to.head(10).plot(kind = \"bar\", title  = \"Trip Volume by Destination\")"
   ]
  },
  {
   "cell_type": "markdown",
   "metadata": {},
   "source": [
    "Frequency of start -> destination by trip"
   ]
  },
  {
   "cell_type": "code",
   "execution_count": 26,
   "metadata": {},
   "outputs": [
    {
     "data": {
      "text/plain": [
       "<AxesSubplot:title={'center':'Trip Volume by Start -> Destination'}>"
      ]
     },
     "execution_count": 26,
     "metadata": {},
     "output_type": "execute_result"
    },
    {
     "data": {
      "image/png": "[encoded data removed]",
      "text/plain": [
       "<Figure size 432x288 with 1 Axes>"
      ]
     },
     "metadata": {
      "needs_background": "light"
     },
     "output_type": "display_data"
    }
   ],
   "source": [
    "df[\"cities_from_to\"] = df[\"cities_from\"] + \"->\" + df[\"cities_to\"]\n",
    "cities_from_to = df[\"cities_from_to\"].value_counts()\n",
    "cities_from_to.head(20).plot(kind = \"bar\", title  = \"Trip Volume by Start -> Destination\")"
   ]
  },
  {
   "cell_type": "markdown",
   "metadata": {},
   "source": [
    "## Number of Riders"
   ]
  },
  {
   "cell_type": "markdown",
   "metadata": {},
   "source": [
    "Riders by trip"
   ]
  },
  {
   "cell_type": "code",
   "execution_count": 27,
   "metadata": {},
   "outputs": [
    {
     "data": {
      "text/plain": [
       "count    579729.000000\n",
       "mean          1.534758\n",
       "std           0.995884\n",
       "min           1.000000\n",
       "25%           1.000000\n",
       "50%           1.000000\n",
       "75%           2.000000\n",
       "max           6.000000\n",
       "Name: riders_count, dtype: float64"
      ]
     },
     "execution_count": 27,
     "metadata": {},
     "output_type": "execute_result"
    }
   ],
   "source": [
    "df[\"riders_count\"].describe()"
   ]
  },
  {
   "cell_type": "code",
   "execution_count": 28,
   "metadata": {},
   "outputs": [
    {
     "data": {
      "text/plain": [
       "<AxesSubplot:>"
      ]
     },
     "execution_count": 28,
     "metadata": {},
     "output_type": "execute_result"
    },
    {
     "data": {
      "image/png": "[encoded data removed]",
      "text/plain": [
       "<Figure size 432x288 with 1 Axes>"
      ]
     },
     "metadata": {
      "needs_background": "light"
     },
     "output_type": "display_data"
    }
   ],
   "source": [
    "df[\"riders_count\"].hist()"
   ]
  },
  {
   "cell_type": "markdown",
   "metadata": {},
   "source": [
    "## Distance and Duration"
   ]
  },
  {
   "cell_type": "markdown",
   "metadata": {},
   "source": [
    "Distance by trip"
   ]
  },
  {
   "cell_type": "code",
   "execution_count": 29,
   "metadata": {},
   "outputs": [
    {
     "data": {
      "text/plain": [
       "count    579729.000000\n",
       "mean          8.071992\n",
       "std           6.706913\n",
       "min           0.040000\n",
       "25%           2.980000\n",
       "50%           6.020000\n",
       "75%          11.780000\n",
       "max         116.560000\n",
       "Name: distance, dtype: float64"
      ]
     },
     "execution_count": 29,
     "metadata": {},
     "output_type": "execute_result"
    }
   ],
   "source": [
    "df[\"distance\"].describe()"
   ]
  },
  {
   "cell_type": "code",
   "execution_count": 30,
   "metadata": {},
   "outputs": [
    {
     "data": {
      "text/plain": [
       "<AxesSubplot:>"
      ]
     },
     "execution_count": 30,
     "metadata": {},
     "output_type": "execute_result"
    },
    {
     "data": {
      "image/png": "[encoded data removed]",
      "text/plain": [
       "<Figure size 432x288 with 1 Axes>"
      ]
     },
     "metadata": {
      "needs_background": "light"
     },
     "output_type": "display_data"
    }
   ],
   "source": [
    "df[\"distance\"].hist(bins = 10)"
   ]
  },
  {
   "cell_type": "markdown",
   "metadata": {},
   "source": [
    "Most trips are less than 6km"
   ]
  },
  {
   "cell_type": "markdown",
   "metadata": {},
   "source": [
    "Duration by trip"
   ]
  },
  {
   "cell_type": "code",
   "execution_count": 31,
   "metadata": {},
   "outputs": [
    {
     "data": {
      "text/plain": [
       "count    579729.000000\n",
       "mean         15.012494\n",
       "std           9.934836\n",
       "min           1.000000\n",
       "25%           7.000000\n",
       "50%          12.000000\n",
       "75%          21.000000\n",
       "max         117.000000\n",
       "Name: duration, dtype: float64"
      ]
     },
     "execution_count": 31,
     "metadata": {},
     "output_type": "execute_result"
    }
   ],
   "source": [
    "df[\"duration\"].describe()"
   ]
  },
  {
   "cell_type": "code",
   "execution_count": 32,
   "metadata": {
    "scrolled": true
   },
   "outputs": [
    {
     "data": {
      "text/plain": [
       "<AxesSubplot:>"
      ]
     },
     "execution_count": 32,
     "metadata": {},
     "output_type": "execute_result"
    },
    {
     "data": {
      "image/png": "[encoded data removed]",
      "text/plain": [
       "<Figure size 432x288 with 1 Axes>"
      ]
     },
     "metadata": {
      "needs_background": "light"
     },
     "output_type": "display_data"
    }
   ],
   "source": [
    "df[\"duration\"].hist(bins = 10)"
   ]
  },
  {
   "cell_type": "markdown",
   "metadata": {},
   "source": [
    "Most trips last for fewer than 15 minutes, make sense given most trips are less than 6km"
   ]
  },
  {
   "cell_type": "markdown",
   "metadata": {},
   "source": [
    "## Speed"
   ]
  },
  {
   "cell_type": "markdown",
   "metadata": {},
   "source": [
    "Speed during trip per trip in km/h"
   ]
  },
  {
   "cell_type": "code",
   "execution_count": 33,
   "metadata": {},
   "outputs": [
    {
     "data": {
      "text/plain": [
       "count    579729.000000\n",
       "mean         29.536525\n",
       "std           7.894775\n",
       "min           2.400000\n",
       "25%          24.461538\n",
       "50%          29.464286\n",
       "75%          34.142857\n",
       "max          89.427273\n",
       "Name: speed, dtype: float64"
      ]
     },
     "execution_count": 33,
     "metadata": {},
     "output_type": "execute_result"
    }
   ],
   "source": [
    "df[\"speed\"] = df[\"distance\"]/df[\"duration\"]*60\n",
    "df[\"speed\"].describe()"
   ]
  },
  {
   "cell_type": "code",
   "execution_count": 34,
   "metadata": {},
   "outputs": [
    {
     "data": {
      "text/plain": [
       "<AxesSubplot:>"
      ]
     },
     "execution_count": 34,
     "metadata": {},
     "output_type": "execute_result"
    },
    {
     "data": {
      "image/png": "[encoded data removed]",
      "text/plain": [
       "<Figure size 432x288 with 1 Axes>"
      ]
     },
     "metadata": {
      "needs_background": "light"
     },
     "output_type": "display_data"
    }
   ],
   "source": [
    "df[\"speed\"].hist(bins = 10)"
   ]
  },
  {
   "cell_type": "markdown",
   "metadata": {},
   "source": [
    "## Price"
   ]
  },
  {
   "cell_type": "markdown",
   "metadata": {},
   "source": [
    "Price per trip"
   ]
  },
  {
   "cell_type": "code",
   "execution_count": 35,
   "metadata": {},
   "outputs": [
    {
     "data": {
      "text/plain": [
       "count    579724.000000\n",
       "mean         18.884562\n",
       "std          11.285161\n",
       "min           1.000000\n",
       "25%          10.000000\n",
       "50%          15.000000\n",
       "75%          25.000000\n",
       "max         475.000000\n",
       "Name: price, dtype: float64"
      ]
     },
     "execution_count": 35,
     "metadata": {},
     "output_type": "execute_result"
    }
   ],
   "source": [
    "df[\"price\"].describe()"
   ]
  },
  {
   "cell_type": "code",
   "execution_count": 36,
   "metadata": {
    "scrolled": true
   },
   "outputs": [
    {
     "data": {
      "text/plain": [
       "<AxesSubplot:>"
      ]
     },
     "execution_count": 36,
     "metadata": {},
     "output_type": "execute_result"
    },
    {
     "data": {
      "image/png": "[encoded data removed]",
      "text/plain": [
       "<Figure size 432x288 with 1 Axes>"
      ]
     },
     "metadata": {
      "needs_background": "light"
     },
     "output_type": "display_data"
    }
   ],
   "source": [
    "df[\"price\"].hist(bins = 10)"
   ]
  },
  {
   "cell_type": "markdown",
   "metadata": {},
   "source": [
    "There seems to be signficant outliers, let's take a look at those"
   ]
  },
  {
   "cell_type": "code",
   "execution_count": 37,
   "metadata": {
    "scrolled": false
   },
   "outputs": [
    {
     "data": {
      "text/html": [
       "<div>\n",
       "<style scoped>\n",
       "    .dataframe tbody tr th:only-of-type {\n",
       "        vertical-align: middle;\n",
       "    }\n",
       "\n",
       "    .dataframe tbody tr th {\n",
       "        vertical-align: top;\n",
       "    }\n",
       "\n",
       "    .dataframe thead th {\n",
       "        text-align: right;\n",
       "    }\n",
       "</style>\n",
       "<table border=\"1\" class=\"dataframe\">\n",
       "  <thead>\n",
       "    <tr style=\"text-align: right;\">\n",
       "      <th></th>\n",
       "      <th>cities_from_to</th>\n",
       "      <th>duration</th>\n",
       "      <th>distance</th>\n",
       "      <th>price</th>\n",
       "    </tr>\n",
       "  </thead>\n",
       "  <tbody>\n",
       "    <tr>\n",
       "      <th>376135</th>\n",
       "      <td>Nanaimo-&gt;Victoria</td>\n",
       "      <td>6</td>\n",
       "      <td>1.22</td>\n",
       "      <td>350.0</td>\n",
       "    </tr>\n",
       "    <tr>\n",
       "      <th>496466</th>\n",
       "      <td>Burnaby-&gt;West Vancouver</td>\n",
       "      <td>48</td>\n",
       "      <td>22.81</td>\n",
       "      <td>277.0</td>\n",
       "    </tr>\n",
       "    <tr>\n",
       "      <th>496344</th>\n",
       "      <td>Richmond-&gt;Vancouver</td>\n",
       "      <td>65</td>\n",
       "      <td>40.32</td>\n",
       "      <td>475.0</td>\n",
       "    </tr>\n",
       "    <tr>\n",
       "      <th>107611</th>\n",
       "      <td>Vancouver-&gt;White Rock</td>\n",
       "      <td>80</td>\n",
       "      <td>47.95</td>\n",
       "      <td>447.0</td>\n",
       "    </tr>\n",
       "    <tr>\n",
       "      <th>229552</th>\n",
       "      <td>White Rock-&gt;Vancouver</td>\n",
       "      <td>80</td>\n",
       "      <td>48.01</td>\n",
       "      <td>447.0</td>\n",
       "    </tr>\n",
       "    <tr>\n",
       "      <th>174298</th>\n",
       "      <td>Burnaby-&gt;Abbotsford</td>\n",
       "      <td>49</td>\n",
       "      <td>67.94</td>\n",
       "      <td>200.0</td>\n",
       "    </tr>\n",
       "    <tr>\n",
       "      <th>71033</th>\n",
       "      <td>Richmond-&gt;Abbotsford</td>\n",
       "      <td>68</td>\n",
       "      <td>82.99</td>\n",
       "      <td>156.0</td>\n",
       "    </tr>\n",
       "    <tr>\n",
       "      <th>228298</th>\n",
       "      <td>Richmond-&gt;Abbotsford</td>\n",
       "      <td>106</td>\n",
       "      <td>90.13</td>\n",
       "      <td>156.0</td>\n",
       "    </tr>\n",
       "    <tr>\n",
       "      <th>256071</th>\n",
       "      <td>Richmond-&gt;Abbotsford</td>\n",
       "      <td>106</td>\n",
       "      <td>90.16</td>\n",
       "      <td>151.0</td>\n",
       "    </tr>\n",
       "    <tr>\n",
       "      <th>386618</th>\n",
       "      <td>Chilliwack-&gt;Burnaby</td>\n",
       "      <td>66</td>\n",
       "      <td>98.37</td>\n",
       "      <td>154.0</td>\n",
       "    </tr>\n",
       "    <tr>\n",
       "      <th>126238</th>\n",
       "      <td>Vancouver-&gt;Chilliwack</td>\n",
       "      <td>78</td>\n",
       "      <td>99.02</td>\n",
       "      <td>185.0</td>\n",
       "    </tr>\n",
       "    <tr>\n",
       "      <th>450517</th>\n",
       "      <td>Chilliwack-&gt;Delta</td>\n",
       "      <td>102</td>\n",
       "      <td>99.98</td>\n",
       "      <td>156.0</td>\n",
       "    </tr>\n",
       "    <tr>\n",
       "      <th>530080</th>\n",
       "      <td>Chilliwack-&gt;Vancouver</td>\n",
       "      <td>73</td>\n",
       "      <td>102.03</td>\n",
       "      <td>167.0</td>\n",
       "    </tr>\n",
       "    <tr>\n",
       "      <th>529355</th>\n",
       "      <td>Richmond-&gt;Chilliwack</td>\n",
       "      <td>82</td>\n",
       "      <td>106.68</td>\n",
       "      <td>169.0</td>\n",
       "    </tr>\n",
       "    <tr>\n",
       "      <th>95436</th>\n",
       "      <td>Vancouver-&gt;Chilliwack</td>\n",
       "      <td>103</td>\n",
       "      <td>116.56</td>\n",
       "      <td>209.0</td>\n",
       "    </tr>\n",
       "  </tbody>\n",
       "</table>\n",
       "</div>"
      ],
      "text/plain": [
       "                 cities_from_to  duration  distance  price\n",
       "376135        Nanaimo->Victoria         6      1.22  350.0\n",
       "496466  Burnaby->West Vancouver        48     22.81  277.0\n",
       "496344      Richmond->Vancouver        65     40.32  475.0\n",
       "107611    Vancouver->White Rock        80     47.95  447.0\n",
       "229552    White Rock->Vancouver        80     48.01  447.0\n",
       "174298      Burnaby->Abbotsford        49     67.94  200.0\n",
       "71033      Richmond->Abbotsford        68     82.99  156.0\n",
       "228298     Richmond->Abbotsford       106     90.13  156.0\n",
       "256071     Richmond->Abbotsford       106     90.16  151.0\n",
       "386618      Chilliwack->Burnaby        66     98.37  154.0\n",
       "126238    Vancouver->Chilliwack        78     99.02  185.0\n",
       "450517        Chilliwack->Delta       102     99.98  156.0\n",
       "530080    Chilliwack->Vancouver        73    102.03  167.0\n",
       "529355     Richmond->Chilliwack        82    106.68  169.0\n",
       "95436     Vancouver->Chilliwack       103    116.56  209.0"
      ]
     },
     "execution_count": 37,
     "metadata": {},
     "output_type": "execute_result"
    }
   ],
   "source": [
    "df[[\"cities_from_to\",\"duration\",\"distance\",\"price\"]].loc[df[\"price\"] > 150].sort_values(by=\"distance\", ascending=True)"
   ]
  },
  {
   "cell_type": "raw",
   "metadata": {},
   "source": [
    "Interestingly here we see the highest prices are associated with lower distances, there may need to be further analysis on these trips, most likely data issues."
   ]
  },
  {
   "cell_type": "markdown",
   "metadata": {},
   "source": [
    "We see that the vast majority of trips are less than CAD 25, namely 75% of trip, let's look at the distribution of trips with prices less than CAD 50"
   ]
  },
  {
   "cell_type": "code",
   "execution_count": 38,
   "metadata": {
    "scrolled": true
   },
   "outputs": [
    {
     "data": {
      "text/plain": [
       "<AxesSubplot:>"
      ]
     },
     "execution_count": 38,
     "metadata": {},
     "output_type": "execute_result"
    },
    {
     "data": {
      "image/png": "[encoded data removed]",
      "text/plain": [
       "<Figure size 432x288 with 1 Axes>"
      ]
     },
     "metadata": {
      "needs_background": "light"
     },
     "output_type": "display_data"
    }
   ],
   "source": [
    "df[\"price\"].loc[df[\"price\"] <= 50].hist(bins = 10)"
   ]
  },
  {
   "cell_type": "markdown",
   "metadata": {},
   "source": [
    "## Day of Week and Time of Day"
   ]
  },
  {
   "cell_type": "markdown",
   "metadata": {},
   "source": [
    "Trips in different days and times based on trip start time"
   ]
  },
  {
   "cell_type": "code",
   "execution_count": 39,
   "metadata": {
    "scrolled": false
   },
   "outputs": [
    {
     "data": {
      "text/plain": [
       "<AxesSubplot:title={'center':'Highest volume days'}>"
      ]
     },
     "execution_count": 39,
     "metadata": {},
     "output_type": "execute_result"
    },
    {
     "data": {
      "image/png": "[encoded data removed]",
      "text/plain": [
       "<Figure size 432x288 with 1 Axes>"
      ]
     },
     "metadata": {
      "needs_background": "light"
     },
     "output_type": "display_data"
    }
   ],
   "source": [
    "df[\"start_date.time\"]  = pd.to_datetime(df[\"start_date.time\"])\n",
    "df[\"day_start\"] = df[\"start_date.time\"].dt.day_name() \n",
    "days_freq = df[\"day_start\"].value_counts()\n",
    "days_freq.plot(kind = \"bar\", title  = \"Highest volume days\")"
   ]
  },
  {
   "cell_type": "markdown",
   "metadata": {},
   "source": [
    "Most trips are on Friday and Saturday."
   ]
  },
  {
   "cell_type": "code",
   "execution_count": 40,
   "metadata": {},
   "outputs": [
    {
     "data": {
      "text/plain": [
       "<AxesSubplot:title={'center':'Highest volume hours'}>"
      ]
     },
     "execution_count": 40,
     "metadata": {},
     "output_type": "execute_result"
    },
    {
     "data": {
      "image/png": "[encoded data removed]",
      "text/plain": [
       "<Figure size 432x288 with 1 Axes>"
      ]
     },
     "metadata": {
      "needs_background": "light"
     },
     "output_type": "display_data"
    }
   ],
   "source": [
    "df[\"hour_start\"] = df[\"start_date.time\"].dt.hour.apply(str)\n",
    "hours_freq = df[\"hour_start\"].value_counts()\n",
    "hours_freq.plot(kind = \"bar\", title  = \"Highest volume hours\")"
   ]
  },
  {
   "cell_type": "markdown",
   "metadata": {},
   "source": [
    "Most trips are in the later afternoon right around end of day for workers, 5 and 6 PM"
   ]
  },
  {
   "cell_type": "code",
   "execution_count": 41,
   "metadata": {},
   "outputs": [
    {
     "data": {
      "text/plain": [
       "<AxesSubplot:title={'center':'Highest volume times'}>"
      ]
     },
     "execution_count": 41,
     "metadata": {},
     "output_type": "execute_result"
    },
    {
     "data": {
      "image/png": "[encoded data removed]",
      "text/plain": [
       "<Figure size 432x288 with 1 Axes>"
      ]
     },
     "metadata": {
      "needs_background": "light"
     },
     "output_type": "display_data"
    }
   ],
   "source": [
    "df[\"hour_day_start\"] = df[\"hour_start\"] + \" \" + df[\"day_start\"]\n",
    "hour_day_freq = df[\"hour_day_start\"].value_counts()\n",
    "hour_day_freq.head(20).plot(kind = \"bar\", title  = \"Highest volume times\")"
   ]
  },
  {
   "cell_type": "code",
   "execution_count": 42,
   "metadata": {},
   "outputs": [
    {
     "data": {
      "text/plain": [
       "<AxesSubplot:title={'center':'Lowest volume times'}>"
      ]
     },
     "execution_count": 42,
     "metadata": {},
     "output_type": "execute_result"
    },
    {
     "data": {
      "image/png": "[encoded data removed]",
      "text/plain": [
       "<Figure size 432x288 with 1 Axes>"
      ]
     },
     "metadata": {
      "needs_background": "light"
     },
     "output_type": "display_data"
    }
   ],
   "source": [
    "hour_day_freq.tail(10).plot(kind = \"bar\", title  = \"Lowest volume times\")"
   ]
  },
  {
   "cell_type": "markdown",
   "metadata": {},
   "source": [
    "Again we see that Friday and Saturday have the highest volume of trips, with dinner time on Friday and Saturday being the most popular followed by end of night on Friday"
   ]
  },
  {
   "cell_type": "markdown",
   "metadata": {},
   "source": [
    "Let's see the average drivers per time period"
   ]
  },
  {
   "cell_type": "code",
   "execution_count": 43,
   "metadata": {},
   "outputs": [],
   "source": [
    "df['round_start_date_time'] = df['start_date.time'].apply(lambda x: x.replace(minute=0, second=0))\n",
    "df_times_avg_drivers = df[[\"driver_id\",\"round_start_date_time\"]].groupby([\"round_start_date_time\"]).nunique().sort_values(by=\"driver_id\", ascending=False)\n",
    "\n",
    "df_times_avg_drivers[\"day_start\"] = df_times_avg_drivers.index.day_name().astype(str) \n",
    "df_times_avg_drivers[\"hour_start\"] = df_times_avg_drivers.index.hour.astype(str)\n",
    "df_times_avg_drivers[\"hour_day_start\"] = df_times_avg_drivers.agg('{0[hour_start]} {0[day_start]}'.format, axis=1)\n",
    "\n",
    "df_times_avg_drivers.reset_index(inplace = True)"
   ]
  },
  {
   "cell_type": "code",
   "execution_count": 44,
   "metadata": {},
   "outputs": [
    {
     "data": {
      "text/plain": [
       "<AxesSubplot:title={'center':'Average Number of Driver during Time Period'}, xlabel='hour_day_start'>"
      ]
     },
     "execution_count": 44,
     "metadata": {},
     "output_type": "execute_result"
    },
    {
     "data": {
      "image/png": "[encoded data removed]",
      "text/plain": [
       "<Figure size 432x288 with 1 Axes>"
      ]
     },
     "metadata": {
      "needs_background": "light"
     },
     "output_type": "display_data"
    }
   ],
   "source": [
    "df_driver_work_times = pd.concat([df_times_avg_drivers[\"driver_id\"], df_times_avg_drivers[\"hour_day_start\"]], axis=1)\n",
    "df_driver_work_times = df_driver_work_times.groupby([\"hour_day_start\"]).mean().sort_values(by=\"driver_id\", ascending=False)\n",
    "df_driver_work_times.head(20).plot(kind = \"bar\", title  = \"Average Number of Driver during Time Period\", legend = False)"
   ]
  },
  {
   "cell_type": "markdown",
   "metadata": {},
   "source": [
    "We see the average drivers per period align with the trip volume, during times with more trips we see more drivers. But here Friday night seems to be the most popular with drivers followed by Saturday night."
   ]
  }
 ],
 "metadata": {
  "kernelspec": {
   "display_name": "Python 3",
   "language": "python",
   "name": "python3"
  },
  "language_info": {
   "codemirror_mode": {
    "name": "ipython",
    "version": 3
   },
   "file_extension": ".py",
   "mimetype": "text/x-python",
   "name": "python",
   "nbconvert_exporter": "python",
   "pygments_lexer": "ipython3",
   "version": "3.8.5"
  }
 },
 "nbformat": 4,
 "nbformat_minor": 4
}
