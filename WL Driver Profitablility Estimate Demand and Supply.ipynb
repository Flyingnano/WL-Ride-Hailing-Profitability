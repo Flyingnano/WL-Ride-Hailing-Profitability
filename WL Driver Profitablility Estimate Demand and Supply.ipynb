{
 "cells": [
  {
   "cell_type": "code",
   "execution_count": 450,
   "metadata": {},
   "outputs": [],
   "source": [
    "import numpy as np; import scipy as sp; import pandas as pd; \n",
    "import statsmodels.api as sm \n",
    "import pylab as py ; import matplotlib.pyplot as plt; "
   ]
  },
  {
   "cell_type": "code",
   "execution_count": 451,
   "metadata": {},
   "outputs": [],
   "source": [
    "path = \"D:\\Downloads\\WL\""
   ]
  },
  {
   "cell_type": "markdown",
   "metadata": {},
   "source": [
    "## Import Cancelled Trips and Add to Complete Trips"
   ]
  },
  {
   "cell_type": "code",
   "execution_count": 452,
   "metadata": {},
   "outputs": [
    {
     "name": "stderr",
     "output_type": "stream",
     "text": [
      "C:\\Users\\haoto\\anaconda3\\lib\\site-packages\\IPython\\core\\interactiveshell.py:3146: DtypeWarning: Columns (44) have mixed types.Specify dtype option on import or set low_memory=False.\n",
      "  has_raised = await self.run_ast_nodes(code_ast.body, cell_name,\n"
     ]
    }
   ],
   "source": [
    "df_cancel = pd.read_csv(path +\"\\\\cancelled_deduped_HyeongcheolPark_20210212 GC March 4 2021.csv\")\n",
    "df_complete = pd.read_csv(path +\"\\\\completed_deduped_HyeongcheolPark_20210212 gc feb 13.csv\")"
   ]
  },
  {
   "cell_type": "code",
   "execution_count": 453,
   "metadata": {
    "scrolled": true
   },
   "outputs": [
    {
     "data": {
      "text/html": [
       "<div>\n",
       "<style scoped>\n",
       "    .dataframe tbody tr th:only-of-type {\n",
       "        vertical-align: middle;\n",
       "    }\n",
       "\n",
       "    .dataframe tbody tr th {\n",
       "        vertical-align: top;\n",
       "    }\n",
       "\n",
       "    .dataframe thead th {\n",
       "        text-align: right;\n",
       "    }\n",
       "</style>\n",
       "<table border=\"1\" class=\"dataframe\">\n",
       "  <thead>\n",
       "    <tr style=\"text-align: right;\">\n",
       "      <th></th>\n",
       "      <th>id</th>\n",
       "      <th>orderid</th>\n",
       "      <th>rider_username</th>\n",
       "      <th>driver_id</th>\n",
       "      <th>driver.rate</th>\n",
       "      <th>score_count</th>\n",
       "      <th>Order_complet_count</th>\n",
       "      <th>Order_rider_cancle_count</th>\n",
       "      <th>order_admin_cancle_count</th>\n",
       "      <th>car_desc</th>\n",
       "      <th>...</th>\n",
       "      <th>tsr_osrm</th>\n",
       "      <th>pickup_date.time</th>\n",
       "      <th>pickup_date.time_osrm</th>\n",
       "      <th>trip_update_date.time</th>\n",
       "      <th>total.trip.cycle</th>\n",
       "      <th>driver.wait.time</th>\n",
       "      <th>delay</th>\n",
       "      <th>delay.osrm</th>\n",
       "      <th>address_fromto</th>\n",
       "      <th>dedup_index</th>\n",
       "    </tr>\n",
       "  </thead>\n",
       "  <tbody>\n",
       "    <tr>\n",
       "      <th>0</th>\n",
       "      <td>4</td>\n",
       "      <td>1347152</td>\n",
       "      <td>1.778241e+10</td>\n",
       "      <td>1184</td>\n",
       "      <td>5.0</td>\n",
       "      <td>1346</td>\n",
       "      <td>2057</td>\n",
       "      <td>175</td>\n",
       "      <td>16</td>\n",
       "      <td>Toyota Camry</td>\n",
       "      <td>...</td>\n",
       "      <td>-1.066667</td>\n",
       "      <td>2019/7/31 23:50</td>\n",
       "      <td>2019/7/31 23:52</td>\n",
       "      <td>2019/8/1 10:04</td>\n",
       "      <td>NaN</td>\n",
       "      <td>NaN</td>\n",
       "      <td>-4</td>\n",
       "      <td>-2</td>\n",
       "      <td>CF Richmond Centre,Number 3 Road, Richmond, BC...</td>\n",
       "      <td>CF Richmond Centre,Number 3 Road, Richmond, BC...</td>\n",
       "    </tr>\n",
       "    <tr>\n",
       "      <th>1</th>\n",
       "      <td>6</td>\n",
       "      <td>1347147</td>\n",
       "      <td>1.236889e+10</td>\n",
       "      <td>162</td>\n",
       "      <td>5.0</td>\n",
       "      <td>457</td>\n",
       "      <td>654</td>\n",
       "      <td>43</td>\n",
       "      <td>2</td>\n",
       "      <td>Tesla Model X</td>\n",
       "      <td>...</td>\n",
       "      <td>-0.250000</td>\n",
       "      <td>2019/7/31 23:48</td>\n",
       "      <td>2019/7/31 23:50</td>\n",
       "      <td>2019/8/1 23:43</td>\n",
       "      <td>NaN</td>\n",
       "      <td>NaN</td>\n",
       "      <td>-3</td>\n",
       "      <td>-1</td>\n",
       "      <td>4771 Garden City Rd, Richmond, BC V6X 3M7, Can...</td>\n",
       "      <td>4771 Garden City Rd, Richmond, BC V6X 3M7, Can...</td>\n",
       "    </tr>\n",
       "    <tr>\n",
       "      <th>2</th>\n",
       "      <td>10</td>\n",
       "      <td>1347138</td>\n",
       "      <td>1.778981e+10</td>\n",
       "      <td>95</td>\n",
       "      <td>5.0</td>\n",
       "      <td>3114</td>\n",
       "      <td>4504</td>\n",
       "      <td>812</td>\n",
       "      <td>65</td>\n",
       "      <td>Lexus RX</td>\n",
       "      <td>...</td>\n",
       "      <td>7.016667</td>\n",
       "      <td>2019/7/31 23:52</td>\n",
       "      <td>2019/7/31 23:51</td>\n",
       "      <td>2019/8/5 19:47</td>\n",
       "      <td>NaN</td>\n",
       "      <td>NaN</td>\n",
       "      <td>7</td>\n",
       "      <td>7</td>\n",
       "      <td>2976 Cliffrose Crescent,Coquitlam, BC, Canada ...</td>\n",
       "      <td>2976 Cliffrose Crescent,Coquitlam, BC, Canada ...</td>\n",
       "    </tr>\n",
       "    <tr>\n",
       "      <th>3</th>\n",
       "      <td>13</td>\n",
       "      <td>1347135</td>\n",
       "      <td>1.250687e+10</td>\n",
       "      <td>488</td>\n",
       "      <td>5.0</td>\n",
       "      <td>8665</td>\n",
       "      <td>11369</td>\n",
       "      <td>560</td>\n",
       "      <td>82</td>\n",
       "      <td>Toyota Prius</td>\n",
       "      <td>...</td>\n",
       "      <td>0.383333</td>\n",
       "      <td>2019/7/31 23:39</td>\n",
       "      <td>2019/7/31 23:43</td>\n",
       "      <td>2019/8/1 14:42</td>\n",
       "      <td>NaN</td>\n",
       "      <td>NaN</td>\n",
       "      <td>-4</td>\n",
       "      <td>0</td>\n",
       "      <td>JiangHu ??-??????,Canada, British Columbia, Ri...</td>\n",
       "      <td>JiangHu ??-??????,Canada, British Columbia, Ri...</td>\n",
       "    </tr>\n",
       "    <tr>\n",
       "      <th>4</th>\n",
       "      <td>14</td>\n",
       "      <td>1347132</td>\n",
       "      <td>1.778317e+10</td>\n",
       "      <td>1333</td>\n",
       "      <td>5.0</td>\n",
       "      <td>2038</td>\n",
       "      <td>3471</td>\n",
       "      <td>386</td>\n",
       "      <td>15</td>\n",
       "      <td>Mazda CX-9</td>\n",
       "      <td>...</td>\n",
       "      <td>-2.266667</td>\n",
       "      <td>2019/7/31 23:42</td>\n",
       "      <td>2019/7/31 23:39</td>\n",
       "      <td>2019/9/11 1:13</td>\n",
       "      <td>NaN</td>\n",
       "      <td>NaN</td>\n",
       "      <td>0</td>\n",
       "      <td>-3</td>\n",
       "      <td>7371 Westminster Highway,Richmond, BC, Canada ...</td>\n",
       "      <td>7371 Westminster Highway,Richmond, BC, Canada ...</td>\n",
       "    </tr>\n",
       "    <tr>\n",
       "      <th>...</th>\n",
       "      <td>...</td>\n",
       "      <td>...</td>\n",
       "      <td>...</td>\n",
       "      <td>...</td>\n",
       "      <td>...</td>\n",
       "      <td>...</td>\n",
       "      <td>...</td>\n",
       "      <td>...</td>\n",
       "      <td>...</td>\n",
       "      <td>...</td>\n",
       "      <td>...</td>\n",
       "      <td>...</td>\n",
       "      <td>...</td>\n",
       "      <td>...</td>\n",
       "      <td>...</td>\n",
       "      <td>...</td>\n",
       "      <td>...</td>\n",
       "      <td>...</td>\n",
       "      <td>...</td>\n",
       "      <td>...</td>\n",
       "      <td>...</td>\n",
       "    </tr>\n",
       "    <tr>\n",
       "      <th>579724</th>\n",
       "      <td>657460</td>\n",
       "      <td>682434</td>\n",
       "      <td>1.778513e+10</td>\n",
       "      <td>1509</td>\n",
       "      <td>4.9</td>\n",
       "      <td>411</td>\n",
       "      <td>472</td>\n",
       "      <td>91</td>\n",
       "      <td>8</td>\n",
       "      <td>Tesla Model X</td>\n",
       "      <td>...</td>\n",
       "      <td>12.550000</td>\n",
       "      <td>2018/11/1 7:56</td>\n",
       "      <td>2018/11/1 7:57</td>\n",
       "      <td>2018/11/1 8:00</td>\n",
       "      <td>16M 19S</td>\n",
       "      <td>34S</td>\n",
       "      <td>11</td>\n",
       "      <td>12</td>\n",
       "      <td>2985 West 15th Avenue, Vancouver, BC, Canada S...</td>\n",
       "      <td>2985 West 15th Avenue, Vancouver, BC, Canada S...</td>\n",
       "    </tr>\n",
       "    <tr>\n",
       "      <th>579725</th>\n",
       "      <td>657461</td>\n",
       "      <td>682401</td>\n",
       "      <td>1.604724e+10</td>\n",
       "      <td>306</td>\n",
       "      <td>5.0</td>\n",
       "      <td>2085</td>\n",
       "      <td>2329</td>\n",
       "      <td>608</td>\n",
       "      <td>30</td>\n",
       "      <td>Audi A4</td>\n",
       "      <td>...</td>\n",
       "      <td>4157.383000</td>\n",
       "      <td>2018/11/3 15:30</td>\n",
       "      <td>2018/11/3 15:33</td>\n",
       "      <td>2018/11/3 15:53</td>\n",
       "      <td>2d 21H 52M 1S</td>\n",
       "      <td>14M 32S</td>\n",
       "      <td>180</td>\n",
       "      <td>180</td>\n",
       "      <td>1618 West 62nd Avenue,Vancouver, BC, Canada 50...</td>\n",
       "      <td>1618 West 62nd Avenue,Vancouver, BC, Canada 50...</td>\n",
       "    </tr>\n",
       "    <tr>\n",
       "      <th>579726</th>\n",
       "      <td>657463</td>\n",
       "      <td>681993</td>\n",
       "      <td>1.778683e+10</td>\n",
       "      <td>1326</td>\n",
       "      <td>5.0</td>\n",
       "      <td>335</td>\n",
       "      <td>452</td>\n",
       "      <td>73</td>\n",
       "      <td>6</td>\n",
       "      <td>Nissan Sentra</td>\n",
       "      <td>...</td>\n",
       "      <td>-4.050000</td>\n",
       "      <td>2018/11/1 6:28</td>\n",
       "      <td>2018/11/1 6:25</td>\n",
       "      <td>2018/11/1 6:40</td>\n",
       "      <td>43M 0S</td>\n",
       "      <td>32M 15S</td>\n",
       "      <td>-2</td>\n",
       "      <td>-5</td>\n",
       "      <td>7831 Westminster Hwy,Richmond, BC, Canada YVR ...</td>\n",
       "      <td>7831 Westminster Hwy,Richmond, BC, Canada YVR ...</td>\n",
       "    </tr>\n",
       "    <tr>\n",
       "      <th>579727</th>\n",
       "      <td>657464</td>\n",
       "      <td>681991</td>\n",
       "      <td>1.778865e+10</td>\n",
       "      <td>259</td>\n",
       "      <td>5.0</td>\n",
       "      <td>110</td>\n",
       "      <td>150</td>\n",
       "      <td>51</td>\n",
       "      <td>3</td>\n",
       "      <td>Audi A4</td>\n",
       "      <td>...</td>\n",
       "      <td>2590.983000</td>\n",
       "      <td>2018/11/2 10:38</td>\n",
       "      <td>2018/11/2 10:40</td>\n",
       "      <td>2018/11/2 11:05</td>\n",
       "      <td>NaN</td>\n",
       "      <td>NaN</td>\n",
       "      <td>180</td>\n",
       "      <td>180</td>\n",
       "      <td>SFU Transit Exchange @ Bay 2, Burnaby, BC V5A,...</td>\n",
       "      <td>SFU Transit Exchange @ Bay 2, Burnaby, BC V5A,...</td>\n",
       "    </tr>\n",
       "    <tr>\n",
       "      <th>579728</th>\n",
       "      <td>657465</td>\n",
       "      <td>679522</td>\n",
       "      <td>1.778317e+10</td>\n",
       "      <td>707</td>\n",
       "      <td>5.0</td>\n",
       "      <td>4848</td>\n",
       "      <td>7576</td>\n",
       "      <td>686</td>\n",
       "      <td>84</td>\n",
       "      <td>Lexus ES</td>\n",
       "      <td>...</td>\n",
       "      <td>8.750000</td>\n",
       "      <td>2018/11/1 5:54</td>\n",
       "      <td>2018/11/1 6:08</td>\n",
       "      <td>2018/11/1 6:37</td>\n",
       "      <td>1H 58M 20S</td>\n",
       "      <td>1H 20M 35S</td>\n",
       "      <td>-6</td>\n",
       "      <td>8</td>\n",
       "      <td>20520 69 Avenue,Langley, BC, Canada 570 Bole C...</td>\n",
       "      <td>20520 69 Avenue,Langley, BC, Canada 570 Bole C...</td>\n",
       "    </tr>\n",
       "  </tbody>\n",
       "</table>\n",
       "<p>579729 rows × 66 columns</p>\n",
       "</div>"
      ],
      "text/plain": [
       "            id  orderid  rider_username  driver_id  driver.rate  score_count  \\\n",
       "0            4  1347152    1.778241e+10       1184          5.0         1346   \n",
       "1            6  1347147    1.236889e+10        162          5.0          457   \n",
       "2           10  1347138    1.778981e+10         95          5.0         3114   \n",
       "3           13  1347135    1.250687e+10        488          5.0         8665   \n",
       "4           14  1347132    1.778317e+10       1333          5.0         2038   \n",
       "...        ...      ...             ...        ...          ...          ...   \n",
       "579724  657460   682434    1.778513e+10       1509          4.9          411   \n",
       "579725  657461   682401    1.604724e+10        306          5.0         2085   \n",
       "579726  657463   681993    1.778683e+10       1326          5.0          335   \n",
       "579727  657464   681991    1.778865e+10        259          5.0          110   \n",
       "579728  657465   679522    1.778317e+10        707          5.0         4848   \n",
       "\n",
       "        Order_complet_count  Order_rider_cancle_count  \\\n",
       "0                      2057                       175   \n",
       "1                       654                        43   \n",
       "2                      4504                       812   \n",
       "3                     11369                       560   \n",
       "4                      3471                       386   \n",
       "...                     ...                       ...   \n",
       "579724                  472                        91   \n",
       "579725                 2329                       608   \n",
       "579726                  452                        73   \n",
       "579727                  150                        51   \n",
       "579728                 7576                       686   \n",
       "\n",
       "        order_admin_cancle_count       car_desc  ...     tsr_osrm  \\\n",
       "0                             16   Toyota Camry  ...    -1.066667   \n",
       "1                              2  Tesla Model X  ...    -0.250000   \n",
       "2                             65       Lexus RX  ...     7.016667   \n",
       "3                             82   Toyota Prius  ...     0.383333   \n",
       "4                             15     Mazda CX-9  ...    -2.266667   \n",
       "...                          ...            ...  ...          ...   \n",
       "579724                         8  Tesla Model X  ...    12.550000   \n",
       "579725                        30        Audi A4  ...  4157.383000   \n",
       "579726                         6  Nissan Sentra  ...    -4.050000   \n",
       "579727                         3        Audi A4  ...  2590.983000   \n",
       "579728                        84       Lexus ES  ...     8.750000   \n",
       "\n",
       "       pickup_date.time pickup_date.time_osrm trip_update_date.time  \\\n",
       "0       2019/7/31 23:50       2019/7/31 23:52        2019/8/1 10:04   \n",
       "1       2019/7/31 23:48       2019/7/31 23:50        2019/8/1 23:43   \n",
       "2       2019/7/31 23:52       2019/7/31 23:51        2019/8/5 19:47   \n",
       "3       2019/7/31 23:39       2019/7/31 23:43        2019/8/1 14:42   \n",
       "4       2019/7/31 23:42       2019/7/31 23:39        2019/9/11 1:13   \n",
       "...                 ...                   ...                   ...   \n",
       "579724   2018/11/1 7:56        2018/11/1 7:57        2018/11/1 8:00   \n",
       "579725  2018/11/3 15:30       2018/11/3 15:33       2018/11/3 15:53   \n",
       "579726   2018/11/1 6:28        2018/11/1 6:25        2018/11/1 6:40   \n",
       "579727  2018/11/2 10:38       2018/11/2 10:40       2018/11/2 11:05   \n",
       "579728   2018/11/1 5:54        2018/11/1 6:08        2018/11/1 6:37   \n",
       "\n",
       "       total.trip.cycle driver.wait.time delay delay.osrm  \\\n",
       "0                   NaN              NaN    -4         -2   \n",
       "1                   NaN              NaN    -3         -1   \n",
       "2                   NaN              NaN     7          7   \n",
       "3                   NaN              NaN    -4          0   \n",
       "4                   NaN              NaN     0         -3   \n",
       "...                 ...              ...   ...        ...   \n",
       "579724          16M 19S              34S    11         12   \n",
       "579725    2d 21H 52M 1S          14M 32S   180        180   \n",
       "579726           43M 0S          32M 15S    -2         -5   \n",
       "579727              NaN              NaN   180        180   \n",
       "579728       1H 58M 20S       1H 20M 35S    -6          8   \n",
       "\n",
       "                                           address_fromto  \\\n",
       "0       CF Richmond Centre,Number 3 Road, Richmond, BC...   \n",
       "1       4771 Garden City Rd, Richmond, BC V6X 3M7, Can...   \n",
       "2       2976 Cliffrose Crescent,Coquitlam, BC, Canada ...   \n",
       "3       JiangHu ??-??????,Canada, British Columbia, Ri...   \n",
       "4       7371 Westminster Highway,Richmond, BC, Canada ...   \n",
       "...                                                   ...   \n",
       "579724  2985 West 15th Avenue, Vancouver, BC, Canada S...   \n",
       "579725  1618 West 62nd Avenue,Vancouver, BC, Canada 50...   \n",
       "579726  7831 Westminster Hwy,Richmond, BC, Canada YVR ...   \n",
       "579727  SFU Transit Exchange @ Bay 2, Burnaby, BC V5A,...   \n",
       "579728  20520 69 Avenue,Langley, BC, Canada 570 Bole C...   \n",
       "\n",
       "                                              dedup_index  \n",
       "0       CF Richmond Centre,Number 3 Road, Richmond, BC...  \n",
       "1       4771 Garden City Rd, Richmond, BC V6X 3M7, Can...  \n",
       "2       2976 Cliffrose Crescent,Coquitlam, BC, Canada ...  \n",
       "3       JiangHu ??-??????,Canada, British Columbia, Ri...  \n",
       "4       7371 Westminster Highway,Richmond, BC, Canada ...  \n",
       "...                                                   ...  \n",
       "579724  2985 West 15th Avenue, Vancouver, BC, Canada S...  \n",
       "579725  1618 West 62nd Avenue,Vancouver, BC, Canada 50...  \n",
       "579726  7831 Westminster Hwy,Richmond, BC, Canada YVR ...  \n",
       "579727  SFU Transit Exchange @ Bay 2, Burnaby, BC V5A,...  \n",
       "579728  20520 69 Avenue,Langley, BC, Canada 570 Bole C...  \n",
       "\n",
       "[579729 rows x 66 columns]"
      ]
     },
     "execution_count": 453,
     "metadata": {},
     "output_type": "execute_result"
    }
   ],
   "source": [
    "df_complete"
   ]
  },
  {
   "cell_type": "markdown",
   "metadata": {},
   "source": [
    "Clean Data"
   ]
  },
  {
   "cell_type": "code",
   "execution_count": 454,
   "metadata": {},
   "outputs": [],
   "source": [
    "investigate = df_complete[pd.to_datetime(df_complete[\"finish_date.time\"]) - pd.to_datetime(df_complete[\"start_date.time\"]) < \"00:02:00\"][[\"orderid\",\"rider_username\",\"driver_id\",\"distance\",\"price\",\"start_date.time\",\"finish_date.time\",\"duration\"]].sort_values(by=[\"driver_id\",\"start_date.time\"], ascending=False)\n",
    "investigate.columns = [\"orderid\",\"rider_username\",\"driver_id\",\"distance\",\"price\",\"start_date_time\",\"finish_date_time\",\"duration\"]\n",
    "investigate.start_date_time = pd.to_datetime(investigate.start_date_time)\n",
    "investigate.finish_date_time = pd.to_datetime(investigate.finish_date_time)\n",
    "\n",
    "investigate['Difference'] = np.where(investigate.driver_id == investigate.driver_id.shift(), investigate.start_date_time.shift() - investigate.finish_date_time, np.nan)\n",
    "\n",
    "df_complete_clean = df_complete[~df_complete.orderid.isin(investigate[investigate[\"Difference\"] < \"00:02:00\"].orderid)]"
   ]
  },
  {
   "cell_type": "code",
   "execution_count": 455,
   "metadata": {
    "scrolled": true
   },
   "outputs": [
    {
     "data": {
      "text/html": [
       "<div>\n",
       "<style scoped>\n",
       "    .dataframe tbody tr th:only-of-type {\n",
       "        vertical-align: middle;\n",
       "    }\n",
       "\n",
       "    .dataframe tbody tr th {\n",
       "        vertical-align: top;\n",
       "    }\n",
       "\n",
       "    .dataframe thead th {\n",
       "        text-align: right;\n",
       "    }\n",
       "</style>\n",
       "<table border=\"1\" class=\"dataframe\">\n",
       "  <thead>\n",
       "    <tr style=\"text-align: right;\">\n",
       "      <th></th>\n",
       "      <th>id</th>\n",
       "      <th>orderid</th>\n",
       "      <th>rider_username</th>\n",
       "      <th>driver_id</th>\n",
       "      <th>driver.rate</th>\n",
       "      <th>score_count</th>\n",
       "      <th>Order_complet_count</th>\n",
       "      <th>Order_rider_cancle_count</th>\n",
       "      <th>order_admin_cancle_count</th>\n",
       "      <th>car_desc</th>\n",
       "      <th>...</th>\n",
       "      <th>tsr_osrm</th>\n",
       "      <th>pickup_date.time</th>\n",
       "      <th>pickup_date.time_osrm</th>\n",
       "      <th>trip_update_date.time</th>\n",
       "      <th>total.trip.cycle</th>\n",
       "      <th>driver.wait.time</th>\n",
       "      <th>delay</th>\n",
       "      <th>delay.osrm</th>\n",
       "      <th>address_fromto</th>\n",
       "      <th>dedup_index</th>\n",
       "    </tr>\n",
       "  </thead>\n",
       "  <tbody>\n",
       "    <tr>\n",
       "      <th>0</th>\n",
       "      <td>4</td>\n",
       "      <td>1347152</td>\n",
       "      <td>1.778241e+10</td>\n",
       "      <td>1184</td>\n",
       "      <td>5.0</td>\n",
       "      <td>1346</td>\n",
       "      <td>2057</td>\n",
       "      <td>175</td>\n",
       "      <td>16</td>\n",
       "      <td>Toyota Camry</td>\n",
       "      <td>...</td>\n",
       "      <td>-1.066667</td>\n",
       "      <td>2019/7/31 23:50</td>\n",
       "      <td>2019/7/31 23:52</td>\n",
       "      <td>2019/8/1 10:04</td>\n",
       "      <td>NaN</td>\n",
       "      <td>NaN</td>\n",
       "      <td>-4</td>\n",
       "      <td>-2</td>\n",
       "      <td>CF Richmond Centre,Number 3 Road, Richmond, BC...</td>\n",
       "      <td>CF Richmond Centre,Number 3 Road, Richmond, BC...</td>\n",
       "    </tr>\n",
       "    <tr>\n",
       "      <th>1</th>\n",
       "      <td>6</td>\n",
       "      <td>1347147</td>\n",
       "      <td>1.236889e+10</td>\n",
       "      <td>162</td>\n",
       "      <td>5.0</td>\n",
       "      <td>457</td>\n",
       "      <td>654</td>\n",
       "      <td>43</td>\n",
       "      <td>2</td>\n",
       "      <td>Tesla Model X</td>\n",
       "      <td>...</td>\n",
       "      <td>-0.250000</td>\n",
       "      <td>2019/7/31 23:48</td>\n",
       "      <td>2019/7/31 23:50</td>\n",
       "      <td>2019/8/1 23:43</td>\n",
       "      <td>NaN</td>\n",
       "      <td>NaN</td>\n",
       "      <td>-3</td>\n",
       "      <td>-1</td>\n",
       "      <td>4771 Garden City Rd, Richmond, BC V6X 3M7, Can...</td>\n",
       "      <td>4771 Garden City Rd, Richmond, BC V6X 3M7, Can...</td>\n",
       "    </tr>\n",
       "    <tr>\n",
       "      <th>2</th>\n",
       "      <td>10</td>\n",
       "      <td>1347138</td>\n",
       "      <td>1.778981e+10</td>\n",
       "      <td>95</td>\n",
       "      <td>5.0</td>\n",
       "      <td>3114</td>\n",
       "      <td>4504</td>\n",
       "      <td>812</td>\n",
       "      <td>65</td>\n",
       "      <td>Lexus RX</td>\n",
       "      <td>...</td>\n",
       "      <td>7.016667</td>\n",
       "      <td>2019/7/31 23:52</td>\n",
       "      <td>2019/7/31 23:51</td>\n",
       "      <td>2019/8/5 19:47</td>\n",
       "      <td>NaN</td>\n",
       "      <td>NaN</td>\n",
       "      <td>7</td>\n",
       "      <td>7</td>\n",
       "      <td>2976 Cliffrose Crescent,Coquitlam, BC, Canada ...</td>\n",
       "      <td>2976 Cliffrose Crescent,Coquitlam, BC, Canada ...</td>\n",
       "    </tr>\n",
       "    <tr>\n",
       "      <th>3</th>\n",
       "      <td>13</td>\n",
       "      <td>1347135</td>\n",
       "      <td>1.250687e+10</td>\n",
       "      <td>488</td>\n",
       "      <td>5.0</td>\n",
       "      <td>8665</td>\n",
       "      <td>11369</td>\n",
       "      <td>560</td>\n",
       "      <td>82</td>\n",
       "      <td>Toyota Prius</td>\n",
       "      <td>...</td>\n",
       "      <td>0.383333</td>\n",
       "      <td>2019/7/31 23:39</td>\n",
       "      <td>2019/7/31 23:43</td>\n",
       "      <td>2019/8/1 14:42</td>\n",
       "      <td>NaN</td>\n",
       "      <td>NaN</td>\n",
       "      <td>-4</td>\n",
       "      <td>0</td>\n",
       "      <td>JiangHu ??-??????,Canada, British Columbia, Ri...</td>\n",
       "      <td>JiangHu ??-??????,Canada, British Columbia, Ri...</td>\n",
       "    </tr>\n",
       "    <tr>\n",
       "      <th>4</th>\n",
       "      <td>14</td>\n",
       "      <td>1347132</td>\n",
       "      <td>1.778317e+10</td>\n",
       "      <td>1333</td>\n",
       "      <td>5.0</td>\n",
       "      <td>2038</td>\n",
       "      <td>3471</td>\n",
       "      <td>386</td>\n",
       "      <td>15</td>\n",
       "      <td>Mazda CX-9</td>\n",
       "      <td>...</td>\n",
       "      <td>-2.266667</td>\n",
       "      <td>2019/7/31 23:42</td>\n",
       "      <td>2019/7/31 23:39</td>\n",
       "      <td>2019/9/11 1:13</td>\n",
       "      <td>NaN</td>\n",
       "      <td>NaN</td>\n",
       "      <td>0</td>\n",
       "      <td>-3</td>\n",
       "      <td>7371 Westminster Highway,Richmond, BC, Canada ...</td>\n",
       "      <td>7371 Westminster Highway,Richmond, BC, Canada ...</td>\n",
       "    </tr>\n",
       "    <tr>\n",
       "      <th>...</th>\n",
       "      <td>...</td>\n",
       "      <td>...</td>\n",
       "      <td>...</td>\n",
       "      <td>...</td>\n",
       "      <td>...</td>\n",
       "      <td>...</td>\n",
       "      <td>...</td>\n",
       "      <td>...</td>\n",
       "      <td>...</td>\n",
       "      <td>...</td>\n",
       "      <td>...</td>\n",
       "      <td>...</td>\n",
       "      <td>...</td>\n",
       "      <td>...</td>\n",
       "      <td>...</td>\n",
       "      <td>...</td>\n",
       "      <td>...</td>\n",
       "      <td>...</td>\n",
       "      <td>...</td>\n",
       "      <td>...</td>\n",
       "      <td>...</td>\n",
       "    </tr>\n",
       "    <tr>\n",
       "      <th>579724</th>\n",
       "      <td>657460</td>\n",
       "      <td>682434</td>\n",
       "      <td>1.778513e+10</td>\n",
       "      <td>1509</td>\n",
       "      <td>4.9</td>\n",
       "      <td>411</td>\n",
       "      <td>472</td>\n",
       "      <td>91</td>\n",
       "      <td>8</td>\n",
       "      <td>Tesla Model X</td>\n",
       "      <td>...</td>\n",
       "      <td>12.550000</td>\n",
       "      <td>2018/11/1 7:56</td>\n",
       "      <td>2018/11/1 7:57</td>\n",
       "      <td>2018/11/1 8:00</td>\n",
       "      <td>16M 19S</td>\n",
       "      <td>34S</td>\n",
       "      <td>11</td>\n",
       "      <td>12</td>\n",
       "      <td>2985 West 15th Avenue, Vancouver, BC, Canada S...</td>\n",
       "      <td>2985 West 15th Avenue, Vancouver, BC, Canada S...</td>\n",
       "    </tr>\n",
       "    <tr>\n",
       "      <th>579725</th>\n",
       "      <td>657461</td>\n",
       "      <td>682401</td>\n",
       "      <td>1.604724e+10</td>\n",
       "      <td>306</td>\n",
       "      <td>5.0</td>\n",
       "      <td>2085</td>\n",
       "      <td>2329</td>\n",
       "      <td>608</td>\n",
       "      <td>30</td>\n",
       "      <td>Audi A4</td>\n",
       "      <td>...</td>\n",
       "      <td>4157.383000</td>\n",
       "      <td>2018/11/3 15:30</td>\n",
       "      <td>2018/11/3 15:33</td>\n",
       "      <td>2018/11/3 15:53</td>\n",
       "      <td>2d 21H 52M 1S</td>\n",
       "      <td>14M 32S</td>\n",
       "      <td>180</td>\n",
       "      <td>180</td>\n",
       "      <td>1618 West 62nd Avenue,Vancouver, BC, Canada 50...</td>\n",
       "      <td>1618 West 62nd Avenue,Vancouver, BC, Canada 50...</td>\n",
       "    </tr>\n",
       "    <tr>\n",
       "      <th>579726</th>\n",
       "      <td>657463</td>\n",
       "      <td>681993</td>\n",
       "      <td>1.778683e+10</td>\n",
       "      <td>1326</td>\n",
       "      <td>5.0</td>\n",
       "      <td>335</td>\n",
       "      <td>452</td>\n",
       "      <td>73</td>\n",
       "      <td>6</td>\n",
       "      <td>Nissan Sentra</td>\n",
       "      <td>...</td>\n",
       "      <td>-4.050000</td>\n",
       "      <td>2018/11/1 6:28</td>\n",
       "      <td>2018/11/1 6:25</td>\n",
       "      <td>2018/11/1 6:40</td>\n",
       "      <td>43M 0S</td>\n",
       "      <td>32M 15S</td>\n",
       "      <td>-2</td>\n",
       "      <td>-5</td>\n",
       "      <td>7831 Westminster Hwy,Richmond, BC, Canada YVR ...</td>\n",
       "      <td>7831 Westminster Hwy,Richmond, BC, Canada YVR ...</td>\n",
       "    </tr>\n",
       "    <tr>\n",
       "      <th>579727</th>\n",
       "      <td>657464</td>\n",
       "      <td>681991</td>\n",
       "      <td>1.778865e+10</td>\n",
       "      <td>259</td>\n",
       "      <td>5.0</td>\n",
       "      <td>110</td>\n",
       "      <td>150</td>\n",
       "      <td>51</td>\n",
       "      <td>3</td>\n",
       "      <td>Audi A4</td>\n",
       "      <td>...</td>\n",
       "      <td>2590.983000</td>\n",
       "      <td>2018/11/2 10:38</td>\n",
       "      <td>2018/11/2 10:40</td>\n",
       "      <td>2018/11/2 11:05</td>\n",
       "      <td>NaN</td>\n",
       "      <td>NaN</td>\n",
       "      <td>180</td>\n",
       "      <td>180</td>\n",
       "      <td>SFU Transit Exchange @ Bay 2, Burnaby, BC V5A,...</td>\n",
       "      <td>SFU Transit Exchange @ Bay 2, Burnaby, BC V5A,...</td>\n",
       "    </tr>\n",
       "    <tr>\n",
       "      <th>579728</th>\n",
       "      <td>657465</td>\n",
       "      <td>679522</td>\n",
       "      <td>1.778317e+10</td>\n",
       "      <td>707</td>\n",
       "      <td>5.0</td>\n",
       "      <td>4848</td>\n",
       "      <td>7576</td>\n",
       "      <td>686</td>\n",
       "      <td>84</td>\n",
       "      <td>Lexus ES</td>\n",
       "      <td>...</td>\n",
       "      <td>8.750000</td>\n",
       "      <td>2018/11/1 5:54</td>\n",
       "      <td>2018/11/1 6:08</td>\n",
       "      <td>2018/11/1 6:37</td>\n",
       "      <td>1H 58M 20S</td>\n",
       "      <td>1H 20M 35S</td>\n",
       "      <td>-6</td>\n",
       "      <td>8</td>\n",
       "      <td>20520 69 Avenue,Langley, BC, Canada 570 Bole C...</td>\n",
       "      <td>20520 69 Avenue,Langley, BC, Canada 570 Bole C...</td>\n",
       "    </tr>\n",
       "  </tbody>\n",
       "</table>\n",
       "<p>578468 rows × 66 columns</p>\n",
       "</div>"
      ],
      "text/plain": [
       "            id  orderid  rider_username  driver_id  driver.rate  score_count  \\\n",
       "0            4  1347152    1.778241e+10       1184          5.0         1346   \n",
       "1            6  1347147    1.236889e+10        162          5.0          457   \n",
       "2           10  1347138    1.778981e+10         95          5.0         3114   \n",
       "3           13  1347135    1.250687e+10        488          5.0         8665   \n",
       "4           14  1347132    1.778317e+10       1333          5.0         2038   \n",
       "...        ...      ...             ...        ...          ...          ...   \n",
       "579724  657460   682434    1.778513e+10       1509          4.9          411   \n",
       "579725  657461   682401    1.604724e+10        306          5.0         2085   \n",
       "579726  657463   681993    1.778683e+10       1326          5.0          335   \n",
       "579727  657464   681991    1.778865e+10        259          5.0          110   \n",
       "579728  657465   679522    1.778317e+10        707          5.0         4848   \n",
       "\n",
       "        Order_complet_count  Order_rider_cancle_count  \\\n",
       "0                      2057                       175   \n",
       "1                       654                        43   \n",
       "2                      4504                       812   \n",
       "3                     11369                       560   \n",
       "4                      3471                       386   \n",
       "...                     ...                       ...   \n",
       "579724                  472                        91   \n",
       "579725                 2329                       608   \n",
       "579726                  452                        73   \n",
       "579727                  150                        51   \n",
       "579728                 7576                       686   \n",
       "\n",
       "        order_admin_cancle_count       car_desc  ...     tsr_osrm  \\\n",
       "0                             16   Toyota Camry  ...    -1.066667   \n",
       "1                              2  Tesla Model X  ...    -0.250000   \n",
       "2                             65       Lexus RX  ...     7.016667   \n",
       "3                             82   Toyota Prius  ...     0.383333   \n",
       "4                             15     Mazda CX-9  ...    -2.266667   \n",
       "...                          ...            ...  ...          ...   \n",
       "579724                         8  Tesla Model X  ...    12.550000   \n",
       "579725                        30        Audi A4  ...  4157.383000   \n",
       "579726                         6  Nissan Sentra  ...    -4.050000   \n",
       "579727                         3        Audi A4  ...  2590.983000   \n",
       "579728                        84       Lexus ES  ...     8.750000   \n",
       "\n",
       "       pickup_date.time pickup_date.time_osrm trip_update_date.time  \\\n",
       "0       2019/7/31 23:50       2019/7/31 23:52        2019/8/1 10:04   \n",
       "1       2019/7/31 23:48       2019/7/31 23:50        2019/8/1 23:43   \n",
       "2       2019/7/31 23:52       2019/7/31 23:51        2019/8/5 19:47   \n",
       "3       2019/7/31 23:39       2019/7/31 23:43        2019/8/1 14:42   \n",
       "4       2019/7/31 23:42       2019/7/31 23:39        2019/9/11 1:13   \n",
       "...                 ...                   ...                   ...   \n",
       "579724   2018/11/1 7:56        2018/11/1 7:57        2018/11/1 8:00   \n",
       "579725  2018/11/3 15:30       2018/11/3 15:33       2018/11/3 15:53   \n",
       "579726   2018/11/1 6:28        2018/11/1 6:25        2018/11/1 6:40   \n",
       "579727  2018/11/2 10:38       2018/11/2 10:40       2018/11/2 11:05   \n",
       "579728   2018/11/1 5:54        2018/11/1 6:08        2018/11/1 6:37   \n",
       "\n",
       "       total.trip.cycle driver.wait.time delay delay.osrm  \\\n",
       "0                   NaN              NaN    -4         -2   \n",
       "1                   NaN              NaN    -3         -1   \n",
       "2                   NaN              NaN     7          7   \n",
       "3                   NaN              NaN    -4          0   \n",
       "4                   NaN              NaN     0         -3   \n",
       "...                 ...              ...   ...        ...   \n",
       "579724          16M 19S              34S    11         12   \n",
       "579725    2d 21H 52M 1S          14M 32S   180        180   \n",
       "579726           43M 0S          32M 15S    -2         -5   \n",
       "579727              NaN              NaN   180        180   \n",
       "579728       1H 58M 20S       1H 20M 35S    -6          8   \n",
       "\n",
       "                                           address_fromto  \\\n",
       "0       CF Richmond Centre,Number 3 Road, Richmond, BC...   \n",
       "1       4771 Garden City Rd, Richmond, BC V6X 3M7, Can...   \n",
       "2       2976 Cliffrose Crescent,Coquitlam, BC, Canada ...   \n",
       "3       JiangHu ??-??????,Canada, British Columbia, Ri...   \n",
       "4       7371 Westminster Highway,Richmond, BC, Canada ...   \n",
       "...                                                   ...   \n",
       "579724  2985 West 15th Avenue, Vancouver, BC, Canada S...   \n",
       "579725  1618 West 62nd Avenue,Vancouver, BC, Canada 50...   \n",
       "579726  7831 Westminster Hwy,Richmond, BC, Canada YVR ...   \n",
       "579727  SFU Transit Exchange @ Bay 2, Burnaby, BC V5A,...   \n",
       "579728  20520 69 Avenue,Langley, BC, Canada 570 Bole C...   \n",
       "\n",
       "                                              dedup_index  \n",
       "0       CF Richmond Centre,Number 3 Road, Richmond, BC...  \n",
       "1       4771 Garden City Rd, Richmond, BC V6X 3M7, Can...  \n",
       "2       2976 Cliffrose Crescent,Coquitlam, BC, Canada ...  \n",
       "3       JiangHu ??-??????,Canada, British Columbia, Ri...  \n",
       "4       7371 Westminster Highway,Richmond, BC, Canada ...  \n",
       "...                                                   ...  \n",
       "579724  2985 West 15th Avenue, Vancouver, BC, Canada S...  \n",
       "579725  1618 West 62nd Avenue,Vancouver, BC, Canada 50...  \n",
       "579726  7831 Westminster Hwy,Richmond, BC, Canada YVR ...  \n",
       "579727  SFU Transit Exchange @ Bay 2, Burnaby, BC V5A,...  \n",
       "579728  20520 69 Avenue,Langley, BC, Canada 570 Bole C...  \n",
       "\n",
       "[578468 rows x 66 columns]"
      ]
     },
     "execution_count": 455,
     "metadata": {},
     "output_type": "execute_result"
    }
   ],
   "source": [
    "df_complete_clean"
   ]
  },
  {
   "cell_type": "markdown",
   "metadata": {},
   "source": [
    "Join Cancelled trips to complete trips"
   ]
  },
  {
   "cell_type": "code",
   "execution_count": 456,
   "metadata": {
    "scrolled": true
   },
   "outputs": [],
   "source": [
    "df_clean = df_complete_clean.append(df_cancel,ignore_index=True)\n",
    "df_clean = df_clean[df_clean[\"driver_id\"] != -1]"
   ]
  },
  {
   "cell_type": "code",
   "execution_count": 457,
   "metadata": {},
   "outputs": [],
   "source": [
    "df_clean = df_clean.drop(columns=[\"id\"])"
   ]
  },
  {
   "cell_type": "markdown",
   "metadata": {},
   "source": [
    "Take out rider username 8.61e+12 and 8.62e+12 as these are not individual riders, if this was a real rider, they rose 10415 trips, next to impossible, and by looking at the start times many start at exact same times, this looks to be data errors. "
   ]
  },
  {
   "cell_type": "code",
   "execution_count": 458,
   "metadata": {},
   "outputs": [],
   "source": [
    "df_clean = df_clean[~df_clean[\"rider_username\"].isin([8.610000e+12,8.620000e+12])]"
   ]
  },
  {
   "cell_type": "code",
   "execution_count": 459,
   "metadata": {},
   "outputs": [
    {
     "name": "stdout",
     "output_type": "stream",
     "text": [
      "2018/10/27 2:37\n",
      "2019/7/9 9:59\n"
     ]
    }
   ],
   "source": [
    "print(df_clean[\"start_date.time\"].min())\n",
    "print(df_clean[\"start_date.time\"].max())"
   ]
  },
  {
   "cell_type": "markdown",
   "metadata": {},
   "source": [
    "### Fixing Addresses"
   ]
  },
  {
   "cell_type": "code",
   "execution_count": 460,
   "metadata": {
    "scrolled": true
   },
   "outputs": [],
   "source": [
    "cities = ['Richmond', 'Coquitlam','Vancouver','Burnaby', 'Victoria','North Vancouver','Surrey','New Westminster',\\\n",
    "          'West Vancouver', \"Port Coquitlam\", \"Port Moody\", \"Saanich\",\"Tsawwassen\", \"Delta\", \"Abbotsford\",\"New West\",\\\n",
    "          \"White Rock\",\"Sidney\",\"Nanaimo\",\"Langley City\", \"Steveston\",\"Parksville\",\"English Bay\",\"Walnut Grove\",\\\n",
    "          \"Pitt Meadows\", \"Swartz Bay\",\"Anmore\",\"Langley\",\"Maple Ridge\",\"North Saanich\", \"Langford\", \"Aldergrove\",\\\n",
    "          \"Brentwood Bay\", \"Mission\",\"Duncan\",\"Spanish Banks Beach\", \"Greater Vancouver A\", \"University Endowment Lands\",\\\n",
    "          \"Belcarra\", \"Sooke\", \"Oak Bay\",\"Saanichton\",\"Langley Township\",\"Chilliwack\",\"Downtown Vancouver\",\\\n",
    "          \"City of Vancouver\", \"Bowen Island\",\"Colwood\",\"Malahat\",\"Cassidy\",\"Esquimalt\"]\n",
    "\n",
    "df_clean[\"cities_to\"] = df_clean.address_to.str.split(',').str[-3].str.strip()\n",
    "df_clean[\"cities_from\"] = df_clean.address_from.str.split(',').str[-3].str.strip()\n",
    "df_clean.loc[~df_clean['cities_to'].isin(cities), 'cities_to'] = df_clean.address_to.str.split(',').str[-1].str.strip()\n",
    "df_clean.loc[~df_clean['cities_to'].isin(cities), 'cities_to'] = df_clean.address_to.str.split(',').str[-2].str.strip()\n",
    "df_clean.loc[~df_clean['cities_to'].isin(cities), 'cities_to'] = df_clean.address_to.str.split(',').str[-4].str.strip()\n",
    "df_clean.loc[~df_clean['cities_from'].isin(cities), 'cities_from'] = df_clean.address_from.str.split(',').str[-1].str.strip()\n",
    "df_clean.loc[~df_clean['cities_from'].isin(cities), 'cities_from'] = df_clean.address_from.str.split(',').str[-2].str.strip()\n",
    "df_clean.loc[~df_clean['cities_from'].isin(cities), 'cities_from'] = df_clean.address_from.str.split(',').str[-4].str.strip()"
   ]
  },
  {
   "cell_type": "markdown",
   "metadata": {},
   "source": [
    "I will remove all other trips that have issues with address"
   ]
  },
  {
   "cell_type": "code",
   "execution_count": 461,
   "metadata": {},
   "outputs": [],
   "source": [
    "df_clean = df_clean[(df_clean['cities_to'].isin(cities)) & (df_clean['cities_from'].isin(cities))]"
   ]
  },
  {
   "cell_type": "markdown",
   "metadata": {},
   "source": [
    "Upon investigation I will group University Endowment Lands, Greater Vancouver A, Spanish Banks, Downtown Vancouver, City of Vancouver, English Bay, Bowen Island (only accessible from Vancouver) to Vancouver; Langley City, Walnut Grove, Aldergrove, Langley Township to Langley; New West to New Westminster; Colwood, Langford, Oak Bay, Saanichton, Saanich, Duncan, North Saanich, Malahat, Esquimalt, Swartz Bay, Brentwood Bay, Sooke, Sidney to Victoria; Cassidy to Nanaimo; Steveston to Richmond; Port Moody, Belcarra, Anmore to Coquitlam, Pitt Meadows to Maple Ridge; Abbotsford, Chilliwack, Mission to Interior, Tsawwassen to Delta"
   ]
  },
  {
   "cell_type": "code",
   "execution_count": 462,
   "metadata": {},
   "outputs": [],
   "source": [
    "vancouver = [\"University Endowment Lands\", \"Greater Vancouver A\", \"Spanish Banks Beach\",\\\n",
    "             \"Downtown Vancouver\", \"City of Vancouver\",\"English Bay\", \"Bowen Island\"]\n",
    "df_clean.loc[df_clean['cities_to'].isin(vancouver), 'cities_to'] = \"Vancouver\"\n",
    "df_clean.loc[df_clean['cities_from'].isin(vancouver), 'cities_from'] = \"Vancouver\"\n",
    "\n",
    "langley = [\"Langley City\",\"Walnut Grove\",\"Aldergrove\",\"Langley Township\"]\n",
    "df_clean.loc[df_clean['cities_to'].isin(langley), 'cities_to'] = \"Langley\"\n",
    "df_clean.loc[df_clean['cities_from'].isin(langley), 'cities_from'] = \"Langley\"\n",
    "\n",
    "df_clean.loc[df_clean['cities_to'] == \"New West\", 'cities_to'] = \"New Westminster\"\n",
    "df_clean.loc[df_clean['cities_from'] == \"New West\", 'cities_from'] = \"New Westminster\"\n",
    "\n",
    "victoria = [\"Colwood\", \"Langford\",\"Oak Bay\",\"Saanichton\",\"Saanich\",\"North Saanich\",\"Malahat\",\\\n",
    "            \"Esquimalt\", \"Sidney\",\"Swartz Bay\", \"Brentwood Bay\", \"Duncan\", \"Sooke\"]\n",
    "df_clean.loc[df_clean['cities_to'].isin(victoria), 'cities_to'] = \"Victoria\"\n",
    "df_clean.loc[df_clean['cities_from'].isin(victoria), 'cities_from'] = \"Victoria\"\n",
    "\n",
    "df_clean.loc[df_clean['cities_to'] == \"Cassidy\", 'cities_to'] = \"Nanaimo\"\n",
    "df_clean.loc[df_clean['cities_from'] == \"Cassidy\", 'cities_from'] = \"Nanaimo\"\n",
    "\n",
    "df_clean.loc[df_clean['cities_to'] == \"Steveston\", 'cities_to'] = \"Richmond\"\n",
    "df_clean.loc[df_clean['cities_from'] == \"Steveston\", 'cities_from'] = \"Richmond\"\n",
    "\n",
    "coquitlam = [\"Port Moody\", \"Belcarra\",\"Anmore\"]\n",
    "df_clean.loc[df_clean['cities_to'].isin(coquitlam), 'cities_to'] = \"Coquitlam\"\n",
    "df_clean.loc[df_clean['cities_from'].isin(coquitlam), 'cities_from'] = \"Coquitlam\"\n",
    "\n",
    "df_clean.loc[df_clean['cities_to'] == \"Pitt Meadows\", 'cities_to'] = \"Maple Ridge\"\n",
    "df_clean.loc[df_clean['cities_from'] == \"Pitt Meadows\", 'cities_from'] = \"Maple Ridge\"\n",
    "\n",
    "df_clean.loc[df_clean['cities_to'] == \"Tsawwassen\", 'cities_to'] = \"Delta\"\n",
    "df_clean.loc[df_clean['cities_from'] == \"Tsawwassen\", 'cities_from'] = \"Delta\"\n",
    "\n",
    "interior = [\"Abbotsford\", \"Chilliwack\", \"Mission\"]\n",
    "df_clean.loc[df_clean['cities_to'].isin(interior), 'cities_to'] = \"Interior\"\n",
    "df_clean.loc[df_clean['cities_from'].isin(interior), 'cities_from'] = \"Interior\"\n",
    "\n",
    "df_clean[\"cities_from_to\"] = df_clean[\"cities_from\"] + \"->\" + df_clean[\"cities_to\"]"
   ]
  },
  {
   "cell_type": "markdown",
   "metadata": {},
   "source": [
    "Clean Datetimes"
   ]
  },
  {
   "cell_type": "code",
   "execution_count": 463,
   "metadata": {
    "scrolled": false
   },
   "outputs": [],
   "source": [
    "df_clean[\"start_date.time\"] = pd.to_datetime(df_clean[\"start_date.time\"])\n",
    "df_clean[\"finish_date.time\"] = pd.to_datetime(df_clean[\"finish_date.time\"])\n",
    "df_clean[\"pickup_date.time\"] = pd.to_datetime(df_clean[\"pickup_date.time\"])\n",
    "df_clean[\"day_start\"] = df_clean[\"start_date.time\"].dt.day_name() \n",
    "df_clean[\"hour_start\"] = df_clean[\"start_date.time\"].dt.hour.apply(str)\n",
    "df_clean[\"hour_day_start\"] = df_clean[\"hour_start\"] + \" \" + df_clean[\"day_start\"]\n",
    "df_clean[\"day_end\"] = df_clean[\"finish_date.time\"].dt.day_name() \n",
    "df_clean[\"hour_end\"] = df_clean[\"finish_date.time\"].dt.hour.apply(str)\n",
    "df_clean[\"hour_day_end\"] = df_clean[\"hour_end\"] + \" \" + df_clean[\"day_end\"]"
   ]
  },
  {
   "cell_type": "code",
   "execution_count": 464,
   "metadata": {},
   "outputs": [],
   "source": [
    "#lookup_trips_by_time_df = df_clean[[\"driver_id\",\"round_start_date_time\",\"cities_from_to\",\"orderid\"]].groupby([\"round_start_date_time\",\"driver_id\",\"cities_from_to\"]).count().sort_values(by=\"orderid\", ascending=False).unstack().reset_index()\n",
    "#lookup_trips_by_time_df[\"hour_day_start\"] = lookup_trips_by_time_df[\"round_start_date_time\"].dt.hour.apply(str) + \" \" + lookup_trips_by_time_df[\"round_start_date_time\"].dt.day_name()\n",
    "#lookup_trips_by_time_df"
   ]
  },
  {
   "cell_type": "markdown",
   "metadata": {},
   "source": [
    "### Extracting Actual Cancelled Trips\n",
    "Some cancelled trips are \"reorders\" where a customers may cancel a ride just to order another one, I will remove those as they are not \"real\" cancellations"
   ]
  },
  {
   "cell_type": "code",
   "execution_count": 465,
   "metadata": {},
   "outputs": [],
   "source": [
    "df_clean = df_clean.sort_values(by=[\"rider_username\",\"start_date.time\"],ascending=False)\n",
    "df_clean[[\"rider_username\",\"driver_id\",\"order_status\",\"start_date.time\",\"address_from\"]]\n",
    "df_clean[\"start_date_time\"] = df_clean[\"start_date.time\"]\n",
    "df_clean[\"Reorder\"] = np.where((df_clean.rider_username == df_clean.rider_username.shift())\\\n",
    "                               & (df_clean.order_status.shift() == \"completed\")\n",
    "                               & (df_clean.order_status != \"completed\")\n",
    "                               & (df_clean.start_date_time.shift() - df_clean.start_date_time < \"00:15:00\"),1, np.nan)\n",
    "df_clean = df_clean[df_clean[\"Reorder\"] != 1]\n",
    "df_clean.drop(['Reorder'],axis = 1, inplace = True)"
   ]
  },
  {
   "cell_type": "markdown",
   "metadata": {},
   "source": [
    "## Demand"
   ]
  },
  {
   "cell_type": "markdown",
   "metadata": {},
   "source": [
    "Number of pickups (includes complete and cancelled) in given date time in a location"
   ]
  },
  {
   "cell_type": "code",
   "execution_count": 466,
   "metadata": {
    "scrolled": true
   },
   "outputs": [],
   "source": [
    "pickups = df_clean[[\"hour_day_start\",\"cities_from\",\"orderid\"]].groupby([\"hour_day_start\",\"cities_from\"]).count().sort_values(by=\"orderid\", ascending=False).unstack().reset_index()\n",
    "pickups.to_csv(path +\"\\\\Total Pickups.csv\")"
   ]
  },
  {
   "cell_type": "markdown",
   "metadata": {},
   "source": [
    "Average time between end of a trip and the start of a new trip, if the time between a trip is greater than 30 minutes we consider that the driver is on a break or is finish for the day"
   ]
  },
  {
   "cell_type": "code",
   "execution_count": 467,
   "metadata": {},
   "outputs": [],
   "source": [
    "df_wait = df_clean[df_clean[\"order_status\"] == \"completed\"].sort_values(by=[\"driver_id\",\"start_date_time\"],ascending=False)\n",
    "df_wait[\"finish_date_time\"] = df_wait[\"finish_date.time\"]\n",
    "df_wait.loc[df_wait['is_reservation'] == 1, 'start_date_time'] = df_wait[\"pickup_date.time\"]\n",
    "df_wait = df_wait.sort_values(by=[\"driver_id\",\"start_date_time\"],ascending=False)\n",
    "df_wait[\"driver_wait\"] = np.where((df_wait.driver_id == df_wait.driver_id.shift()),\n",
    "                                   (df_wait.start_date_time.shift() - df_wait.finish_date_time).astype('timedelta64[m]') , np.nan)\n",
    "\n",
    "wait_time = df_wait[(df_wait[\"driver_wait\"] <= 30) & (df_wait[\"driver_wait\"] > 0)][[\"hour_day_start\",\"cities_from\",\"driver_wait\"]].groupby([\"hour_day_start\",\"cities_from\"]).mean().sort_values(by=\"driver_wait\", ascending=False).unstack().reset_index()\n",
    "wait_time.to_csv(path +\"\\\\Time between Trips for Drivers.csv\")"
   ]
  },
  {
   "cell_type": "markdown",
   "metadata": {},
   "source": [
    "Truly cancelled Trips can be seen as unmet demand"
   ]
  },
  {
   "cell_type": "code",
   "execution_count": 468,
   "metadata": {
    "scrolled": true
   },
   "outputs": [],
   "source": [
    "cancel_trips = df_clean[df_clean[\"order_status\"] != \"completed\"][[\"hour_day_start\",\"cities_from\",\"orderid\"]].groupby([\"hour_day_start\",\"cities_from\"]).count().sort_values(by=\"orderid\", ascending=False).unstack().reset_index()\n",
    "cancel_trips.to_csv(path +\"\\\\Total Cancelled.csv\")"
   ]
  },
  {
   "cell_type": "markdown",
   "metadata": {},
   "source": [
    "## Supply"
   ]
  },
  {
   "cell_type": "markdown",
   "metadata": {},
   "source": [
    "Average number of drivers during the period in the specific location"
   ]
  },
  {
   "cell_type": "code",
   "execution_count": 469,
   "metadata": {
    "scrolled": true
   },
   "outputs": [
    {
     "name": "stderr",
     "output_type": "stream",
     "text": [
      "C:\\Users\\haoto\\anaconda3\\lib\\site-packages\\pandas\\core\\generic.py:3887: PerformanceWarning: dropping on a non-lexsorted multi-index without a level parameter may impact performance.\n",
      "  obj = obj._drop_axis(labels, axis, level=level, errors=errors)\n"
     ]
    }
   ],
   "source": [
    "df_clean['round_start_date_time'] = df_clean['start_date.time'].apply(lambda x: x.replace(minute=0, second=0))\n",
    "num_drivers = df_clean[[\"driver_id\",\"cities_from\",\"round_start_date_time\"]].groupby([\"round_start_date_time\",\"cities_from\"]).nunique().unstack().reset_index()\n",
    "num_drivers[\"hour_day_start\"] = num_drivers[\"round_start_date_time\"].dt.hour.apply(str) + \" \" + num_drivers[\"round_start_date_time\"].dt.day_name()\n",
    "num_drivers.drop(columns=[\"round_start_date_time\"], inplace = True)\n",
    "num_drivers.groupby(\"hour_day_start\").mean().to_csv(path +\"\\\\Average Drivers by Location.csv\")"
   ]
  },
  {
   "cell_type": "markdown",
   "metadata": {},
   "source": [
    "Number of drop offs in given date time in a location"
   ]
  },
  {
   "cell_type": "code",
   "execution_count": 470,
   "metadata": {},
   "outputs": [],
   "source": [
    "dropoffs = df_clean[[\"hour_day_end\",\"cities_to\",\"orderid\"]].groupby([\"hour_day_end\",\"cities_to\"]).count().sort_values(by=\"orderid\", ascending=False).unstack().reset_index()\n",
    "dropoffs.to_csv(path +\"\\\\Total Drop Offs.csv\")"
   ]
  },
  {
   "cell_type": "markdown",
   "metadata": {},
   "source": [
    "## Wait Time"
   ]
  },
  {
   "cell_type": "markdown",
   "metadata": {},
   "source": [
    "Wait time (time between placing order and pickup) can be a proxy to whether or not the supply meets the demand, the shorter the wait time the more abundant the supply. We exclude reserved trips as their wait times are not representative of whether supply meets demand"
   ]
  },
  {
   "cell_type": "code",
   "execution_count": 471,
   "metadata": {},
   "outputs": [
    {
     "name": "stdout",
     "output_type": "stream",
     "text": [
      "569092\n",
      "486140\n"
     ]
    }
   ],
   "source": [
    "print(len(df_clean[(df_clean[\"order_status\"] == \"completed\")]))\n",
    "print(len(df_clean[(df_clean[\"order_status\"] == \"completed\") & (df_clean[\"delay\"] >= 0)]))"
   ]
  },
  {
   "cell_type": "markdown",
   "metadata": {},
   "source": [
    "Some of the delays: pickup time (when the rider was picked up) - start time (when the order was placed) were negative, so we have to exclude those in finding the average wait times"
   ]
  },
  {
   "cell_type": "code",
   "execution_count": 472,
   "metadata": {},
   "outputs": [],
   "source": [
    "delay = df_clean[(df_clean[\"order_status\"] == \"completed\") & (df_clean[\"is_reservation\"] == 0) & (df_clean[\"delay\"] >= 0)][[\"hour_day_start\",\"cities_from\",\"delay\"]].groupby([\"hour_day_start\",\"cities_from\"]).mean().sort_values(by=\"delay\", ascending=False).unstack().reset_index()\n",
    "delay.to_csv(path +\"\\\\Time to Pickup for Customers.csv\")"
   ]
  },
  {
   "cell_type": "markdown",
   "metadata": {},
   "source": [
    "## Revenue"
   ]
  },
  {
   "cell_type": "markdown",
   "metadata": {},
   "source": [
    "By Starting Location"
   ]
  },
  {
   "cell_type": "code",
   "execution_count": 473,
   "metadata": {
    "scrolled": true
   },
   "outputs": [
    {
     "name": "stderr",
     "output_type": "stream",
     "text": [
      "C:\\Users\\haoto\\anaconda3\\lib\\site-packages\\pandas\\core\\generic.py:3887: PerformanceWarning: dropping on a non-lexsorted multi-index without a level parameter may impact performance.\n",
      "  obj = obj._drop_axis(labels, axis, level=level, errors=errors)\n"
     ]
    }
   ],
   "source": [
    "revenue = df_clean[[\"driver_id\",\"round_start_date_time\",\"cities_from\",\"price\"]].groupby([\"round_start_date_time\",\"driver_id\",\"cities_from\"]).sum().unstack().reset_index()\n",
    "revenue[\"hour_day_start\"] = revenue[\"round_start_date_time\"].dt.hour.apply(str) + \" \" + revenue[\"round_start_date_time\"].dt.day_name()\n",
    "revenue.drop(columns=[\"round_start_date_time\",\"driver_id\"], inplace = True)\n",
    "revenue.groupby(\"hour_day_start\").mean().to_csv(path +\"\\\\Average Revenue by Location.csv\")"
   ]
  },
  {
   "cell_type": "markdown",
   "metadata": {},
   "source": []
  },
  {
   "cell_type": "code",
   "execution_count": null,
   "metadata": {},
   "outputs": [],
   "source": []
  },
  {
   "cell_type": "markdown",
   "metadata": {},
   "source": [
    "## Income vs Driving Behavior\n",
    "We consider the driving behavior of top earners by $/hour, the hypothesis is that these top earners will gravitate towards higher earning areas. We will exclude Delta, Interior, Langley, Maple Ridge, Nanaimo, Victoria, and White Rock in this analysis. We will score drivers, driving in the top average revenue area at a given time will get 8 points, and the second highest average revenue area will get 8 points and so on and driving in the lowest earning area will result in no points. And then all points across all time periods will be aggregated. We then record the average score"
   ]
  },
  {
   "cell_type": "markdown",
   "metadata": {},
   "source": [
    "By Starting and Ending Location"
   ]
  },
  {
   "cell_type": "code",
   "execution_count": 474,
   "metadata": {},
   "outputs": [],
   "source": [
    "exclude = [\"Delta\",\"Interior\",\"Langley\",\"Maple Ridge\",\"Nanaimo\",\"Victoria\",\"White Rock\"]\n",
    "revenue_from_to = df_clean[(~df_clean.cities_from.isin(exclude)) & (~df_clean.cities_to.isin(exclude))]\\\n",
    "                  [[\"driver_id\",\"round_start_date_time\",\"cities_from_to\",\"price\"]].groupby([\"round_start_date_time\",\"driver_id\",\"cities_from_to\"]).sum().unstack().reset_index()\n",
    "revenue_from_to[\"hour_day_start\"] = revenue_from_to[\"round_start_date_time\"].dt.hour.apply(str) + \" \" + revenue_from_to[\"round_start_date_time\"].dt.day_name()\n",
    "revenue_from_to.drop(columns=[\"round_start_date_time\",\"driver_id\"], inplace = True)\n",
    "revenue_from_to.groupby(\"hour_day_start\").mean().to_csv(path +\"\\\\Average Revenue by From To.csv\")"
   ]
  },
  {
   "cell_type": "code",
   "execution_count": 475,
   "metadata": {
    "scrolled": true
   },
   "outputs": [
    {
     "data": {
      "text/html": [
       "<div>\n",
       "<style scoped>\n",
       "    .dataframe tbody tr th:only-of-type {\n",
       "        vertical-align: middle;\n",
       "    }\n",
       "\n",
       "    .dataframe tbody tr th {\n",
       "        vertical-align: top;\n",
       "    }\n",
       "\n",
       "    .dataframe thead th {\n",
       "        text-align: right;\n",
       "    }\n",
       "</style>\n",
       "<table border=\"1\" class=\"dataframe\">\n",
       "  <thead>\n",
       "    <tr style=\"text-align: right;\">\n",
       "      <th></th>\n",
       "      <th>cities_from</th>\n",
       "      <th>Burnaby</th>\n",
       "      <th>Coquitlam</th>\n",
       "      <th>New Westminster</th>\n",
       "      <th>North Vancouver</th>\n",
       "      <th>Port Coquitlam</th>\n",
       "      <th>Richmond</th>\n",
       "      <th>Surrey</th>\n",
       "      <th>Vancouver</th>\n",
       "      <th>West Vancouver</th>\n",
       "    </tr>\n",
       "  </thead>\n",
       "  <tbody>\n",
       "    <tr>\n",
       "      <th>0</th>\n",
       "      <td>0 Friday</td>\n",
       "      <td>5</td>\n",
       "      <td>2</td>\n",
       "      <td>3</td>\n",
       "      <td>1</td>\n",
       "      <td>0</td>\n",
       "      <td>6</td>\n",
       "      <td>7</td>\n",
       "      <td>4</td>\n",
       "      <td>8</td>\n",
       "    </tr>\n",
       "    <tr>\n",
       "      <th>1</th>\n",
       "      <td>0 Monday</td>\n",
       "      <td>3</td>\n",
       "      <td>1</td>\n",
       "      <td>0</td>\n",
       "      <td>6</td>\n",
       "      <td>5</td>\n",
       "      <td>4</td>\n",
       "      <td>8</td>\n",
       "      <td>2</td>\n",
       "      <td>7</td>\n",
       "    </tr>\n",
       "    <tr>\n",
       "      <th>2</th>\n",
       "      <td>0 Saturday</td>\n",
       "      <td>3</td>\n",
       "      <td>4</td>\n",
       "      <td>1</td>\n",
       "      <td>7</td>\n",
       "      <td>0</td>\n",
       "      <td>5</td>\n",
       "      <td>8</td>\n",
       "      <td>2</td>\n",
       "      <td>6</td>\n",
       "    </tr>\n",
       "    <tr>\n",
       "      <th>3</th>\n",
       "      <td>0 Sunday</td>\n",
       "      <td>2</td>\n",
       "      <td>0</td>\n",
       "      <td>3</td>\n",
       "      <td>7</td>\n",
       "      <td>6</td>\n",
       "      <td>5</td>\n",
       "      <td>8</td>\n",
       "      <td>4</td>\n",
       "      <td>1</td>\n",
       "    </tr>\n",
       "    <tr>\n",
       "      <th>4</th>\n",
       "      <td>0 Thursday</td>\n",
       "      <td>4</td>\n",
       "      <td>1</td>\n",
       "      <td>0</td>\n",
       "      <td>5</td>\n",
       "      <td>6</td>\n",
       "      <td>3</td>\n",
       "      <td>7</td>\n",
       "      <td>2</td>\n",
       "      <td>8</td>\n",
       "    </tr>\n",
       "    <tr>\n",
       "      <th>...</th>\n",
       "      <td>...</td>\n",
       "      <td>...</td>\n",
       "      <td>...</td>\n",
       "      <td>...</td>\n",
       "      <td>...</td>\n",
       "      <td>...</td>\n",
       "      <td>...</td>\n",
       "      <td>...</td>\n",
       "      <td>...</td>\n",
       "      <td>...</td>\n",
       "    </tr>\n",
       "    <tr>\n",
       "      <th>163</th>\n",
       "      <td>9 Saturday</td>\n",
       "      <td>4</td>\n",
       "      <td>5</td>\n",
       "      <td>2</td>\n",
       "      <td>7</td>\n",
       "      <td>0</td>\n",
       "      <td>1</td>\n",
       "      <td>6</td>\n",
       "      <td>3</td>\n",
       "      <td>8</td>\n",
       "    </tr>\n",
       "    <tr>\n",
       "      <th>164</th>\n",
       "      <td>9 Sunday</td>\n",
       "      <td>4</td>\n",
       "      <td>3</td>\n",
       "      <td>2</td>\n",
       "      <td>5</td>\n",
       "      <td>7</td>\n",
       "      <td>1</td>\n",
       "      <td>6</td>\n",
       "      <td>0</td>\n",
       "      <td>8</td>\n",
       "    </tr>\n",
       "    <tr>\n",
       "      <th>165</th>\n",
       "      <td>9 Thursday</td>\n",
       "      <td>5</td>\n",
       "      <td>3</td>\n",
       "      <td>2</td>\n",
       "      <td>6</td>\n",
       "      <td>0</td>\n",
       "      <td>4</td>\n",
       "      <td>8</td>\n",
       "      <td>1</td>\n",
       "      <td>7</td>\n",
       "    </tr>\n",
       "    <tr>\n",
       "      <th>166</th>\n",
       "      <td>9 Tuesday</td>\n",
       "      <td>5</td>\n",
       "      <td>0</td>\n",
       "      <td>2</td>\n",
       "      <td>8</td>\n",
       "      <td>3</td>\n",
       "      <td>4</td>\n",
       "      <td>7</td>\n",
       "      <td>1</td>\n",
       "      <td>6</td>\n",
       "    </tr>\n",
       "    <tr>\n",
       "      <th>167</th>\n",
       "      <td>9 Wednesday</td>\n",
       "      <td>5</td>\n",
       "      <td>2</td>\n",
       "      <td>0</td>\n",
       "      <td>7</td>\n",
       "      <td>3</td>\n",
       "      <td>4</td>\n",
       "      <td>8</td>\n",
       "      <td>1</td>\n",
       "      <td>6</td>\n",
       "    </tr>\n",
       "  </tbody>\n",
       "</table>\n",
       "<p>168 rows × 10 columns</p>\n",
       "</div>"
      ],
      "text/plain": [
       "     cities_from  Burnaby  Coquitlam  New Westminster  North Vancouver  \\\n",
       "0       0 Friday        5          2                3                1   \n",
       "1       0 Monday        3          1                0                6   \n",
       "2     0 Saturday        3          4                1                7   \n",
       "3       0 Sunday        2          0                3                7   \n",
       "4     0 Thursday        4          1                0                5   \n",
       "..           ...      ...        ...              ...              ...   \n",
       "163   9 Saturday        4          5                2                7   \n",
       "164     9 Sunday        4          3                2                5   \n",
       "165   9 Thursday        5          3                2                6   \n",
       "166    9 Tuesday        5          0                2                8   \n",
       "167  9 Wednesday        5          2                0                7   \n",
       "\n",
       "     Port Coquitlam  Richmond  Surrey  Vancouver  West Vancouver  \n",
       "0                 0         6       7          4               8  \n",
       "1                 5         4       8          2               7  \n",
       "2                 0         5       8          2               6  \n",
       "3                 6         5       8          4               1  \n",
       "4                 6         3       7          2               8  \n",
       "..              ...       ...     ...        ...             ...  \n",
       "163               0         1       6          3               8  \n",
       "164               7         1       6          0               8  \n",
       "165               0         4       8          1               7  \n",
       "166               3         4       7          1               6  \n",
       "167               3         4       8          1               6  \n",
       "\n",
       "[168 rows x 10 columns]"
      ]
     },
     "execution_count": 475,
     "metadata": {},
     "output_type": "execute_result"
    }
   ],
   "source": [
    "df_score = pd.read_csv(path +\"\\\\Region Scores.csv\")\n",
    "df_score"
   ]
  },
  {
   "cell_type": "markdown",
   "metadata": {},
   "source": [
    "$/h by driver"
   ]
  },
  {
   "cell_type": "code",
   "execution_count": 476,
   "metadata": {
    "scrolled": true
   },
   "outputs": [
    {
     "name": "stderr",
     "output_type": "stream",
     "text": [
      "<ipython-input-476-a69ad30b00c4>:2: FutureWarning: DataFrame.mean and DataFrame.median with numeric_only=None will include datetime64 and datetime64tz columns in a future version.\n",
      "  driver_earnings.mean().to_csv(path +\"\\\\Driver Earnings per Hour.csv\")\n"
     ]
    }
   ],
   "source": [
    "driver_earnings = df_clean[[\"driver_id\",\"round_start_date_time\",\"price\"]].groupby([\"round_start_date_time\",\"driver_id\"]).sum().unstack().reset_index()\n",
    "driver_earnings.mean().to_csv(path +\"\\\\Driver Earnings per Hour.csv\")"
   ]
  },
  {
   "cell_type": "markdown",
   "metadata": {},
   "source": [
    "Driver Location: to simply we assume that the location of the first trip during the hour will be where the driver operates, in the next steps of the analysis I will use more complex methods of analysis"
   ]
  },
  {
   "cell_type": "code",
   "execution_count": 477,
   "metadata": {},
   "outputs": [
    {
     "name": "stderr",
     "output_type": "stream",
     "text": [
      "C:\\Users\\haoto\\anaconda3\\lib\\site-packages\\pandas\\core\\generic.py:3887: PerformanceWarning: dropping on a non-lexsorted multi-index without a level parameter may impact performance.\n",
      "  obj = obj._drop_axis(labels, axis, level=level, errors=errors)\n"
     ]
    }
   ],
   "source": [
    "driver_location = df_clean[(~df_clean.cities_from.isin(exclude)) & (~df_clean.cities_to.isin(exclude))]\\\n",
    "                          [[\"driver_id\",\"round_start_date_time\",\"cities_from\",]].groupby([\"round_start_date_time\",\"driver_id\"]).first().unstack().reset_index()\n",
    "driver_location[\"hour_day_start\"] = driver_location[\"round_start_date_time\"].dt.hour.apply(str) + \" \" + driver_location[\"round_start_date_time\"].dt.day_name()\n",
    "driver_location.drop(columns=[\"round_start_date_time\"], inplace = True)"
   ]
  },
  {
   "cell_type": "code",
   "execution_count": 478,
   "metadata": {},
   "outputs": [
    {
     "name": "stderr",
     "output_type": "stream",
     "text": [
      "C:\\Users\\haoto\\anaconda3\\lib\\site-packages\\pandas\\core\\reshape\\merge.py:643: UserWarning: merging between different levels can give an unintended result (2 levels on the left,1 on the right)\n",
      "  warnings.warn(msg, UserWarning)\n"
     ]
    },
    {
     "ename": "KeyError",
     "evalue": "'One or more column labels was not found'",
     "output_type": "error",
     "traceback": [
      "\u001b[1;31m---------------------------------------------------------------------------\u001b[0m",
      "\u001b[1;31mKeyError\u001b[0m                                  Traceback (most recent call last)",
      "\u001b[1;32m<ipython-input-478-bae255ea106c>\u001b[0m in \u001b[0;36m<module>\u001b[1;34m\u001b[0m\n\u001b[0;32m      5\u001b[0m     if col not in [\"cities_from\",\"Burnaby\",\"Coquitlam\",\"New Westminster\",\"Port Coquitlam\",\\\n\u001b[0;32m      6\u001b[0m                    \"Richmond\",\"Surrey\",\"Vancouver\",\"West Vancouver\",\"North Vancouver\"]:\n\u001b[1;32m----> 7\u001b[1;33m         \u001b[0mdriver_scores\u001b[0m\u001b[1;33m[\u001b[0m\u001b[0mstr\u001b[0m\u001b[1;33m(\u001b[0m\u001b[0mcol\u001b[0m\u001b[1;33m[\u001b[0m\u001b[1;36m1\u001b[0m\u001b[1;33m]\u001b[0m\u001b[1;33m)\u001b[0m\u001b[1;33m]\u001b[0m \u001b[1;33m=\u001b[0m \u001b[0mdriver_scores\u001b[0m\u001b[1;33m.\u001b[0m\u001b[0mlookup\u001b[0m\u001b[1;33m(\u001b[0m\u001b[0mdriver_scores\u001b[0m\u001b[1;33m.\u001b[0m\u001b[0mindex\u001b[0m\u001b[1;33m,\u001b[0m\u001b[0mdriver_scores\u001b[0m\u001b[1;33m[\u001b[0m\u001b[0mcol\u001b[0m\u001b[1;33m]\u001b[0m\u001b[1;33m)\u001b[0m\u001b[1;33m\u001b[0m\u001b[1;33m\u001b[0m\u001b[0m\n\u001b[0m",
      "\u001b[1;32m~\\anaconda3\\lib\\site-packages\\pandas\\core\\frame.py\u001b[0m in \u001b[0;36mlookup\u001b[1;34m(self, row_labels, col_labels)\u001b[0m\n\u001b[0;32m   3849\u001b[0m                 \u001b[1;32mraise\u001b[0m \u001b[0mKeyError\u001b[0m\u001b[1;33m(\u001b[0m\u001b[1;34m\"One or more row labels was not found\"\u001b[0m\u001b[1;33m)\u001b[0m\u001b[1;33m\u001b[0m\u001b[1;33m\u001b[0m\u001b[0m\n\u001b[0;32m   3850\u001b[0m             \u001b[1;32mif\u001b[0m \u001b[1;33m(\u001b[0m\u001b[0mcidx\u001b[0m \u001b[1;33m==\u001b[0m \u001b[1;33m-\u001b[0m\u001b[1;36m1\u001b[0m\u001b[1;33m)\u001b[0m\u001b[1;33m.\u001b[0m\u001b[0many\u001b[0m\u001b[1;33m(\u001b[0m\u001b[1;33m)\u001b[0m\u001b[1;33m:\u001b[0m\u001b[1;33m\u001b[0m\u001b[1;33m\u001b[0m\u001b[0m\n\u001b[1;32m-> 3851\u001b[1;33m                 \u001b[1;32mraise\u001b[0m \u001b[0mKeyError\u001b[0m\u001b[1;33m(\u001b[0m\u001b[1;34m\"One or more column labels was not found\"\u001b[0m\u001b[1;33m)\u001b[0m\u001b[1;33m\u001b[0m\u001b[1;33m\u001b[0m\u001b[0m\n\u001b[0m\u001b[0;32m   3852\u001b[0m             \u001b[0mflat_index\u001b[0m \u001b[1;33m=\u001b[0m \u001b[0mridx\u001b[0m \u001b[1;33m*\u001b[0m \u001b[0mlen\u001b[0m\u001b[1;33m(\u001b[0m\u001b[0mself\u001b[0m\u001b[1;33m.\u001b[0m\u001b[0mcolumns\u001b[0m\u001b[1;33m)\u001b[0m \u001b[1;33m+\u001b[0m \u001b[0mcidx\u001b[0m\u001b[1;33m\u001b[0m\u001b[1;33m\u001b[0m\u001b[0m\n\u001b[0;32m   3853\u001b[0m             \u001b[0mresult\u001b[0m \u001b[1;33m=\u001b[0m \u001b[0mvalues\u001b[0m\u001b[1;33m.\u001b[0m\u001b[0mflat\u001b[0m\u001b[1;33m[\u001b[0m\u001b[0mflat_index\u001b[0m\u001b[1;33m]\u001b[0m\u001b[1;33m\u001b[0m\u001b[1;33m\u001b[0m\u001b[0m\n",
      "\u001b[1;31mKeyError\u001b[0m: 'One or more column labels was not found'"
     ]
    }
   ],
   "source": [
    "driver_scores = pd.merge(driver_location,df_score,how=\"left\",left_on=\"hour_day_start\",right_on=\"cities_from\")\n",
    "driver_scores.fillna(\"a\",inplace = True)\n",
    "driver_scores[\"a\"] = -1\n",
    "for col in driver_scores:\n",
    "    if col not in [\"cities_from\",\"Burnaby\",\"Coquitlam\",\"New Westminster\",\"Port Coquitlam\",\\\n",
    "                   \"Richmond\",\"Surrey\",\"Vancouver\",\"West Vancouver\",\"North Vancouver\"]:\n",
    "        driver_scores[str(col[1])] = driver_scores.lookup(driver_scores.index,driver_scores[col])"
   ]
  },
  {
   "cell_type": "code",
   "execution_count": 479,
   "metadata": {},
   "outputs": [],
   "source": [
    "driver_scores.drop(driver_scores.columns[range(998)], axis = 1, inplace = True)\n",
    "driver_scores.replace(-1,np.nan,inplace = True)"
   ]
  },
  {
   "cell_type": "code",
   "execution_count": 480,
   "metadata": {},
   "outputs": [],
   "source": [
    "driver_scores.mean().to_csv(path +\"\\\\Driver Scores.csv\")"
   ]
  },
  {
   "cell_type": "markdown",
   "metadata": {},
   "source": [
    "Regression Earnings vs Score"
   ]
  },
  {
   "cell_type": "code",
   "execution_count": 484,
   "metadata": {
    "scrolled": true
   },
   "outputs": [
    {
     "data": {
      "text/plain": [
       "[<matplotlib.lines.Line2D at 0x24fe05ac370>]"
      ]
     },
     "execution_count": 484,
     "metadata": {},
     "output_type": "execute_result"
    },
    {
     "data": {
      "image/png": "[encoded data removed]",
      "text/plain": [
       "<Figure size 432x288 with 1 Axes>"
      ]
     },
     "metadata": {
      "needs_background": "light"
     },
     "output_type": "display_data"
    }
   ],
   "source": [
    "from sklearn.linear_model import LinearRegression\n",
    "\n",
    "df_regress = pd.read_csv(path +\"\\\\Regression Data.csv\")\n",
    "y = df_regress[\"Gross Income\"].values.reshape(-1, 1)\n",
    "x = df_regress[\"Scores\"].values.reshape(-1, 1)\n",
    "\n",
    "model = LinearRegression()\n",
    "\n",
    "model.fit(x, y)\n",
    "\n",
    "# Plot outputs\n",
    "plt.scatter(x, y,  color='black')\n",
    "plt.plot(x, model.predict(x), color='blue', linewidth=3)"
   ]
  },
  {
   "cell_type": "code",
   "execution_count": 486,
   "metadata": {},
   "outputs": [
    {
     "name": "stdout",
     "output_type": "stream",
     "text": [
      "[[2.63824223]]\n",
      "0.0917842490081271\n",
      "[16.7040489]\n"
     ]
    }
   ],
   "source": [
    "print(model.coef_)\n",
    "print(model.score(x, y))\n",
    "print(model.intercept_)"
   ]
  },
  {
   "cell_type": "markdown",
   "metadata": {},
   "source": [
    "Our regression outputs $Gross Income = 16.7 + 2.64*Region Scores$ with a $R^2$ of only  0.092"
   ]
  }
 ],
 "metadata": {
  "kernelspec": {
   "display_name": "Python 3",
   "language": "python",
   "name": "python3"
  },
  "language_info": {
   "codemirror_mode": {
    "name": "ipython",
    "version": 3
   },
   "file_extension": ".py",
   "mimetype": "text/x-python",
   "name": "python",
   "nbconvert_exporter": "python",
   "pygments_lexer": "ipython3",
   "version": "3.8.5"
  }
 },
 "nbformat": 4,
 "nbformat_minor": 4
}
